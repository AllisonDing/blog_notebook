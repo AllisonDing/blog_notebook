{
 "cells": [
  {
   "cell_type": "markdown",
   "metadata": {
    "_cell_guid": "ea25cdf7-bdbc-3cf1-0737-bc51675e3374",
    "_uuid": "fed5696c67bf55a553d6d04313a77e8c617cad99",
    "id": "e2TxdK7lM53J"
   },
   "source": [
    "# Tips for Data Scientists to Get Started with GPU Acceleration\n",
    "\n",
    "## Introduction\n",
    "This notebook showcases important functionalities that are important for data scientist and how RAPIDS accelerates workflows using its powerful suite of libraries and frameworks.  \n",
    "\n",
    "## Data We'll be Using\n",
    "We'll be exploring and augmenting the Titanic passenger demographic data set from Kaggle to showcase how you can apply these functions to yoru real world data.  The dataset used for this notebook can be downloaded from Kaggle and consists of a \n",
    "- [train](https://www.kaggle.com/code/startupsci/titanic-data-science-solutions/input?select=train.csv) dataset\n",
    "- [test](https://www.kaggle.com/code/startupsci/titanic-data-science-solutions/input?select=test.csv) dataset\n",
    "\n",
    "You will need to accept the terms of the competition before you can download it.  Once you do, please download both before continuing and put them into the same folder as you're running this notebook.\n",
    "\n",
    "\n",
    "\n",
    "\n",
    "\n",
    "\n"
   ]
  },
  {
   "cell_type": "markdown",
   "metadata": {},
   "source": [
    "## Activate GPU-Acceleration"
   ]
  },
  {
   "cell_type": "markdown",
   "metadata": {},
   "source": [
    "%load_ext cudf.pandas loads the cuDF extension for Pandas, allowing the use of GPU-accelerated DataFrames."
   ]
  },
  {
   "cell_type": "code",
   "execution_count": 1,
   "metadata": {
    "id": "d_hibjM0M53K",
    "outputId": "3d447dda-da99-4495-c2e9-64a3fdefd752"
   },
   "outputs": [],
   "source": [
    "%load_ext cudf.pandas"
   ]
  },
  {
   "cell_type": "markdown",
   "metadata": {},
   "source": [
    "## Import Data"
   ]
  },
  {
   "cell_type": "markdown",
   "metadata": {},
   "source": [
    "Import libraries, read Titanic data, and concatenate data"
   ]
  },
  {
   "cell_type": "code",
   "execution_count": 2,
   "metadata": {
    "id": "eog51TtaB5Ij"
   },
   "outputs": [],
   "source": [
    "import pandas as pd\n",
    "import cupy as cp\n",
    "\n",
    "train = pd.read_csv('./train.csv')\n",
    "test = pd.read_csv('./test.csv')\n",
    "concat = pd.concat([train, test], axis = 0)"
   ]
  },
  {
   "cell_type": "markdown",
   "metadata": {},
   "source": [
    "Scale up the dataset to demonstrate the advantage of GPU acceleration: the original Titanic dataset is too small, so we replicate it to simulate a dataset with 1 million rows"
   ]
  },
  {
   "cell_type": "code",
   "execution_count": 3,
   "metadata": {
    "_cell_guid": "e7319668-86fe-8adc-438d-0eef3fd0a982",
    "_uuid": "13f38775c12ad6f914254a08f0d1ef948a2bd453",
    "id": "0HwIvMVJM53L",
    "outputId": "de15a613-e8ce-43b8-c57c-424b81b9bc06"
   },
   "outputs": [
    {
     "name": "stdout",
     "output_type": "stream",
     "text": [
      "(1000000, 12)\n",
      "(1000000, 11)\n"
     ]
    }
   ],
   "source": [
    "target_rows = 1_000_000\n",
    "repeats = -(-target_rows // len(train))  # Ceiling division\n",
    "train_df = pd.concat([train] * repeats, ignore_index=True).head(target_rows)\n",
    "print(train_df.shape)  # (1000000, 2)\n",
    "\n",
    "repeats = -(-target_rows // len(test))  # Ceiling division\n",
    "test_df = pd.concat([test] * repeats, ignore_index=True).head(target_rows)\n",
    "print(test_df.shape)  # (1000000, 2)\n",
    "\n",
    "combine = [train_df, test_df]"
   ]
  },
  {
   "cell_type": "markdown",
   "metadata": {},
   "source": [
    "## Feature Engineering\n",
    "\n",
    "For the feature engineering steps in this notebook, we borrowed and adapted code from the [Titanic Data Science Solutions](https://www.kaggle.com/code/startupsci/titanic-data-science-solutions) notebook. However, we made the feature engineering GPU-accelerated using RAPIDS libraries to significantly enhance performance. Some of the feature engineering decisions were derived from the Exploratory Data Analysis (EDA) step in the original notebook. Since EDA is beyond the scope of this notebook, we have not included those steps here. If you're interested in exploring the detailed EDA process, we encourage you to visit the original notebook for more insights."
   ]
  },
  {
   "cell_type": "markdown",
   "metadata": {},
   "source": [
    "Drop features that do not contribute to the predictions"
   ]
  },
  {
   "cell_type": "code",
   "execution_count": 4,
   "metadata": {},
   "outputs": [
    {
     "name": "stdout",
     "output_type": "stream",
     "text": [
      "Before (1000000, 12) (1000000, 11) (1000000, 12) (1000000, 11)\n",
      "After (1000000, 10) (1000000, 9) (1000000, 10) (1000000, 9)\n"
     ]
    }
   ],
   "source": [
    "print(\"Before\", train_df.shape, test_df.shape, combine[0].shape, combine[1].shape)\n",
    "\n",
    "train_df = train_df.drop(['Ticket', 'Cabin'], axis=1)\n",
    "test_df = test_df.drop(['Ticket', 'Cabin'], axis=1)\n",
    "combine = [train_df, test_df]\n",
    "\n",
    "print(\"After\", train_df.shape, test_df.shape, combine[0].shape, combine[1].shape)"
   ]
  },
  {
   "cell_type": "markdown",
   "metadata": {},
   "source": [
    "Extract 'Title' from 'Name'"
   ]
  },
  {
   "cell_type": "code",
   "execution_count": 5,
   "metadata": {},
   "outputs": [
    {
     "data": {
      "text/html": [
       "<div>\n",
       "<style scoped>\n",
       "    .dataframe tbody tr th:only-of-type {\n",
       "        vertical-align: middle;\n",
       "    }\n",
       "\n",
       "    .dataframe tbody tr th {\n",
       "        vertical-align: top;\n",
       "    }\n",
       "\n",
       "    .dataframe thead th {\n",
       "        text-align: right;\n",
       "    }\n",
       "</style>\n",
       "<table border=\"1\" class=\"dataframe\">\n",
       "  <thead>\n",
       "    <tr style=\"text-align: right;\">\n",
       "      <th>Sex</th>\n",
       "      <th>female</th>\n",
       "      <th>male</th>\n",
       "    </tr>\n",
       "    <tr>\n",
       "      <th>Title</th>\n",
       "      <th></th>\n",
       "      <th></th>\n",
       "    </tr>\n",
       "  </thead>\n",
       "  <tbody>\n",
       "    <tr>\n",
       "      <th>Capt</th>\n",
       "      <td>0</td>\n",
       "      <td>1122</td>\n",
       "    </tr>\n",
       "    <tr>\n",
       "      <th>Col</th>\n",
       "      <td>0</td>\n",
       "      <td>2244</td>\n",
       "    </tr>\n",
       "    <tr>\n",
       "      <th>Countess</th>\n",
       "      <td>1122</td>\n",
       "      <td>0</td>\n",
       "    </tr>\n",
       "    <tr>\n",
       "      <th>Don</th>\n",
       "      <td>0</td>\n",
       "      <td>1123</td>\n",
       "    </tr>\n",
       "    <tr>\n",
       "      <th>Dr</th>\n",
       "      <td>1122</td>\n",
       "      <td>6733</td>\n",
       "    </tr>\n",
       "    <tr>\n",
       "      <th>Jonkheer</th>\n",
       "      <td>0</td>\n",
       "      <td>1122</td>\n",
       "    </tr>\n",
       "    <tr>\n",
       "      <th>Lady</th>\n",
       "      <td>1122</td>\n",
       "      <td>0</td>\n",
       "    </tr>\n",
       "    <tr>\n",
       "      <th>Major</th>\n",
       "      <td>0</td>\n",
       "      <td>2244</td>\n",
       "    </tr>\n",
       "    <tr>\n",
       "      <th>Master</th>\n",
       "      <td>0</td>\n",
       "      <td>44898</td>\n",
       "    </tr>\n",
       "    <tr>\n",
       "      <th>Miss</th>\n",
       "      <td>204271</td>\n",
       "      <td>0</td>\n",
       "    </tr>\n",
       "    <tr>\n",
       "      <th>Mlle</th>\n",
       "      <td>2244</td>\n",
       "      <td>0</td>\n",
       "    </tr>\n",
       "    <tr>\n",
       "      <th>Mme</th>\n",
       "      <td>1122</td>\n",
       "      <td>0</td>\n",
       "    </tr>\n",
       "    <tr>\n",
       "      <th>Mr</th>\n",
       "      <td>0</td>\n",
       "      <td>580243</td>\n",
       "    </tr>\n",
       "    <tr>\n",
       "      <th>Mrs</th>\n",
       "      <td>140289</td>\n",
       "      <td>0</td>\n",
       "    </tr>\n",
       "    <tr>\n",
       "      <th>Ms</th>\n",
       "      <td>1122</td>\n",
       "      <td>0</td>\n",
       "    </tr>\n",
       "    <tr>\n",
       "      <th>Rev</th>\n",
       "      <td>0</td>\n",
       "      <td>6735</td>\n",
       "    </tr>\n",
       "    <tr>\n",
       "      <th>Sir</th>\n",
       "      <td>0</td>\n",
       "      <td>1122</td>\n",
       "    </tr>\n",
       "  </tbody>\n",
       "</table>\n",
       "</div>"
      ],
      "text/plain": [
       "Sex       female    male\n",
       "Title                   \n",
       "Capt           0    1122\n",
       "Col            0    2244\n",
       "Countess    1122       0\n",
       "Don            0    1123\n",
       "Dr          1122    6733\n",
       "Jonkheer       0    1122\n",
       "Lady        1122       0\n",
       "Major          0    2244\n",
       "Master         0   44898\n",
       "Miss      204271       0\n",
       "Mlle        2244       0\n",
       "Mme         1122       0\n",
       "Mr             0  580243\n",
       "Mrs       140289       0\n",
       "Ms          1122       0\n",
       "Rev            0    6735\n",
       "Sir            0    1122"
      ]
     },
     "execution_count": 5,
     "metadata": {},
     "output_type": "execute_result"
    }
   ],
   "source": [
    "for dataset in combine:\n",
    "    dataset['Title'] = dataset.Name.str.extract(' ([A-Za-z]+)\\\\.', expand=False)\n",
    "\n",
    "pd.crosstab(train_df['Title'], train_df['Sex'])"
   ]
  },
  {
   "cell_type": "markdown",
   "metadata": {},
   "source": [
    "Replace many titles with a more common name or classify them as 'Rare'"
   ]
  },
  {
   "cell_type": "code",
   "execution_count": 6,
   "metadata": {},
   "outputs": [
    {
     "data": {
      "text/html": [
       "<div>\n",
       "<style scoped>\n",
       "    .dataframe tbody tr th:only-of-type {\n",
       "        vertical-align: middle;\n",
       "    }\n",
       "\n",
       "    .dataframe tbody tr th {\n",
       "        vertical-align: top;\n",
       "    }\n",
       "\n",
       "    .dataframe thead th {\n",
       "        text-align: right;\n",
       "    }\n",
       "</style>\n",
       "<table border=\"1\" class=\"dataframe\">\n",
       "  <thead>\n",
       "    <tr style=\"text-align: right;\">\n",
       "      <th></th>\n",
       "      <th>Title</th>\n",
       "      <th>Survived</th>\n",
       "    </tr>\n",
       "  </thead>\n",
       "  <tbody>\n",
       "    <tr>\n",
       "      <th>0</th>\n",
       "      <td>Master</td>\n",
       "      <td>0.574925</td>\n",
       "    </tr>\n",
       "    <tr>\n",
       "      <th>1</th>\n",
       "      <td>Miss</td>\n",
       "      <td>0.702693</td>\n",
       "    </tr>\n",
       "    <tr>\n",
       "      <th>2</th>\n",
       "      <td>Mr</td>\n",
       "      <td>0.156669</td>\n",
       "    </tr>\n",
       "    <tr>\n",
       "      <th>3</th>\n",
       "      <td>Mrs</td>\n",
       "      <td>0.793644</td>\n",
       "    </tr>\n",
       "    <tr>\n",
       "      <th>4</th>\n",
       "      <td>Rare</td>\n",
       "      <td>0.347759</td>\n",
       "    </tr>\n",
       "  </tbody>\n",
       "</table>\n",
       "</div>"
      ],
      "text/plain": [
       "    Title  Survived\n",
       "0  Master  0.574925\n",
       "1    Miss  0.702693\n",
       "2      Mr  0.156669\n",
       "3     Mrs  0.793644\n",
       "4    Rare  0.347759"
      ]
     },
     "execution_count": 6,
     "metadata": {},
     "output_type": "execute_result"
    }
   ],
   "source": [
    "for dataset in combine:\n",
    "    dataset['Title'] = dataset['Title'].replace(['Lady', 'Countess','Capt', 'Col',\\\n",
    " \t'Don', 'Dr', 'Major', 'Rev', 'Sir', 'Jonkheer', 'Dona'], 'Rare')\n",
    "\n",
    "    dataset['Title'] = dataset['Title'].replace('Mlle', 'Miss')\n",
    "    dataset['Title'] = dataset['Title'].replace('Ms', 'Miss')\n",
    "    dataset['Title'] = dataset['Title'].replace('Mme', 'Mrs')\n",
    "    \n",
    "train_df[['Title', 'Survived']].groupby(['Title'], as_index=False).mean()"
   ]
  },
  {
   "cell_type": "markdown",
   "metadata": {},
   "source": [
    "Convert the categorical titles to ordinal"
   ]
  },
  {
   "cell_type": "code",
   "execution_count": 7,
   "metadata": {},
   "outputs": [
    {
     "data": {
      "text/html": [
       "<div>\n",
       "<style scoped>\n",
       "    .dataframe tbody tr th:only-of-type {\n",
       "        vertical-align: middle;\n",
       "    }\n",
       "\n",
       "    .dataframe tbody tr th {\n",
       "        vertical-align: top;\n",
       "    }\n",
       "\n",
       "    .dataframe thead th {\n",
       "        text-align: right;\n",
       "    }\n",
       "</style>\n",
       "<table border=\"1\" class=\"dataframe\">\n",
       "  <thead>\n",
       "    <tr style=\"text-align: right;\">\n",
       "      <th></th>\n",
       "      <th>PassengerId</th>\n",
       "      <th>Survived</th>\n",
       "      <th>Pclass</th>\n",
       "      <th>Name</th>\n",
       "      <th>Sex</th>\n",
       "      <th>Age</th>\n",
       "      <th>SibSp</th>\n",
       "      <th>Parch</th>\n",
       "      <th>Fare</th>\n",
       "      <th>Embarked</th>\n",
       "      <th>Title</th>\n",
       "    </tr>\n",
       "  </thead>\n",
       "  <tbody>\n",
       "    <tr>\n",
       "      <th>0</th>\n",
       "      <td>1</td>\n",
       "      <td>0</td>\n",
       "      <td>3</td>\n",
       "      <td>Braund, Mr. Owen Harris</td>\n",
       "      <td>male</td>\n",
       "      <td>22.0</td>\n",
       "      <td>1</td>\n",
       "      <td>0</td>\n",
       "      <td>7.2500</td>\n",
       "      <td>S</td>\n",
       "      <td>1</td>\n",
       "    </tr>\n",
       "    <tr>\n",
       "      <th>1</th>\n",
       "      <td>2</td>\n",
       "      <td>1</td>\n",
       "      <td>1</td>\n",
       "      <td>Cumings, Mrs. John Bradley (Florence Briggs Th...</td>\n",
       "      <td>female</td>\n",
       "      <td>38.0</td>\n",
       "      <td>1</td>\n",
       "      <td>0</td>\n",
       "      <td>71.2833</td>\n",
       "      <td>C</td>\n",
       "      <td>3</td>\n",
       "    </tr>\n",
       "    <tr>\n",
       "      <th>2</th>\n",
       "      <td>3</td>\n",
       "      <td>1</td>\n",
       "      <td>3</td>\n",
       "      <td>Heikkinen, Miss. Laina</td>\n",
       "      <td>female</td>\n",
       "      <td>26.0</td>\n",
       "      <td>0</td>\n",
       "      <td>0</td>\n",
       "      <td>7.9250</td>\n",
       "      <td>S</td>\n",
       "      <td>2</td>\n",
       "    </tr>\n",
       "    <tr>\n",
       "      <th>3</th>\n",
       "      <td>4</td>\n",
       "      <td>1</td>\n",
       "      <td>1</td>\n",
       "      <td>Futrelle, Mrs. Jacques Heath (Lily May Peel)</td>\n",
       "      <td>female</td>\n",
       "      <td>35.0</td>\n",
       "      <td>1</td>\n",
       "      <td>0</td>\n",
       "      <td>53.1000</td>\n",
       "      <td>S</td>\n",
       "      <td>3</td>\n",
       "    </tr>\n",
       "    <tr>\n",
       "      <th>4</th>\n",
       "      <td>5</td>\n",
       "      <td>0</td>\n",
       "      <td>3</td>\n",
       "      <td>Allen, Mr. William Henry</td>\n",
       "      <td>male</td>\n",
       "      <td>35.0</td>\n",
       "      <td>0</td>\n",
       "      <td>0</td>\n",
       "      <td>8.0500</td>\n",
       "      <td>S</td>\n",
       "      <td>1</td>\n",
       "    </tr>\n",
       "  </tbody>\n",
       "</table>\n",
       "</div>"
      ],
      "text/plain": [
       "   PassengerId  Survived  Pclass  \\\n",
       "0            1         0       3   \n",
       "1            2         1       1   \n",
       "2            3         1       3   \n",
       "3            4         1       1   \n",
       "4            5         0       3   \n",
       "\n",
       "                                                Name     Sex   Age  SibSp  \\\n",
       "0                            Braund, Mr. Owen Harris    male  22.0      1   \n",
       "1  Cumings, Mrs. John Bradley (Florence Briggs Th...  female  38.0      1   \n",
       "2                             Heikkinen, Miss. Laina  female  26.0      0   \n",
       "3       Futrelle, Mrs. Jacques Heath (Lily May Peel)  female  35.0      1   \n",
       "4                           Allen, Mr. William Henry    male  35.0      0   \n",
       "\n",
       "   Parch     Fare Embarked  Title  \n",
       "0      0   7.2500        S      1  \n",
       "1      0  71.2833        C      3  \n",
       "2      0   7.9250        S      2  \n",
       "3      0  53.1000        S      3  \n",
       "4      0   8.0500        S      1  "
      ]
     },
     "execution_count": 7,
     "metadata": {},
     "output_type": "execute_result"
    }
   ],
   "source": [
    "title_mapping = {\"Mr\": 1, \"Miss\": 2, \"Mrs\": 3, \"Master\": 4, \"Rare\": 5}\n",
    "for dataset in combine:\n",
    "    dataset['Title'] = dataset['Title'].map(title_mapping)\n",
    "    dataset['Title'] = dataset['Title'].fillna(0)\n",
    "\n",
    "train_df.head()"
   ]
  },
  {
   "cell_type": "markdown",
   "metadata": {},
   "source": [
    "Safely drop 'Name' anad 'PassengerID' feature from training and testing datasets"
   ]
  },
  {
   "cell_type": "code",
   "execution_count": 8,
   "metadata": {},
   "outputs": [
    {
     "data": {
      "text/plain": [
       "((1000000, 9), (1000000, 9))"
      ]
     },
     "execution_count": 8,
     "metadata": {},
     "output_type": "execute_result"
    }
   ],
   "source": [
    "train_df = train_df.drop(['Name', 'PassengerId'], axis=1)\n",
    "test_df = test_df.drop(['Name'], axis=1)\n",
    "combine = [train_df, test_df]\n",
    "train_df.shape, test_df.shape"
   ]
  },
  {
   "cell_type": "markdown",
   "metadata": {},
   "source": [
    "Convert 'Sex' feature to a new feature 'Gender' when female=1 and male=0"
   ]
  },
  {
   "cell_type": "code",
   "execution_count": 9,
   "metadata": {},
   "outputs": [
    {
     "data": {
      "text/html": [
       "<div>\n",
       "<style scoped>\n",
       "    .dataframe tbody tr th:only-of-type {\n",
       "        vertical-align: middle;\n",
       "    }\n",
       "\n",
       "    .dataframe tbody tr th {\n",
       "        vertical-align: top;\n",
       "    }\n",
       "\n",
       "    .dataframe thead th {\n",
       "        text-align: right;\n",
       "    }\n",
       "</style>\n",
       "<table border=\"1\" class=\"dataframe\">\n",
       "  <thead>\n",
       "    <tr style=\"text-align: right;\">\n",
       "      <th></th>\n",
       "      <th>Survived</th>\n",
       "      <th>Pclass</th>\n",
       "      <th>Sex</th>\n",
       "      <th>Age</th>\n",
       "      <th>SibSp</th>\n",
       "      <th>Parch</th>\n",
       "      <th>Fare</th>\n",
       "      <th>Embarked</th>\n",
       "      <th>Title</th>\n",
       "    </tr>\n",
       "  </thead>\n",
       "  <tbody>\n",
       "    <tr>\n",
       "      <th>0</th>\n",
       "      <td>0</td>\n",
       "      <td>3</td>\n",
       "      <td>0</td>\n",
       "      <td>22.0</td>\n",
       "      <td>1</td>\n",
       "      <td>0</td>\n",
       "      <td>7.2500</td>\n",
       "      <td>S</td>\n",
       "      <td>1</td>\n",
       "    </tr>\n",
       "    <tr>\n",
       "      <th>1</th>\n",
       "      <td>1</td>\n",
       "      <td>1</td>\n",
       "      <td>1</td>\n",
       "      <td>38.0</td>\n",
       "      <td>1</td>\n",
       "      <td>0</td>\n",
       "      <td>71.2833</td>\n",
       "      <td>C</td>\n",
       "      <td>3</td>\n",
       "    </tr>\n",
       "    <tr>\n",
       "      <th>2</th>\n",
       "      <td>1</td>\n",
       "      <td>3</td>\n",
       "      <td>1</td>\n",
       "      <td>26.0</td>\n",
       "      <td>0</td>\n",
       "      <td>0</td>\n",
       "      <td>7.9250</td>\n",
       "      <td>S</td>\n",
       "      <td>2</td>\n",
       "    </tr>\n",
       "    <tr>\n",
       "      <th>3</th>\n",
       "      <td>1</td>\n",
       "      <td>1</td>\n",
       "      <td>1</td>\n",
       "      <td>35.0</td>\n",
       "      <td>1</td>\n",
       "      <td>0</td>\n",
       "      <td>53.1000</td>\n",
       "      <td>S</td>\n",
       "      <td>3</td>\n",
       "    </tr>\n",
       "    <tr>\n",
       "      <th>4</th>\n",
       "      <td>0</td>\n",
       "      <td>3</td>\n",
       "      <td>0</td>\n",
       "      <td>35.0</td>\n",
       "      <td>0</td>\n",
       "      <td>0</td>\n",
       "      <td>8.0500</td>\n",
       "      <td>S</td>\n",
       "      <td>1</td>\n",
       "    </tr>\n",
       "  </tbody>\n",
       "</table>\n",
       "</div>"
      ],
      "text/plain": [
       "   Survived  Pclass  Sex   Age  SibSp  Parch     Fare Embarked  Title\n",
       "0         0       3    0  22.0      1      0   7.2500        S      1\n",
       "1         1       1    1  38.0      1      0  71.2833        C      3\n",
       "2         1       3    1  26.0      0      0   7.9250        S      2\n",
       "3         1       1    1  35.0      1      0  53.1000        S      3\n",
       "4         0       3    0  35.0      0      0   8.0500        S      1"
      ]
     },
     "execution_count": 9,
     "metadata": {},
     "output_type": "execute_result"
    }
   ],
   "source": [
    "for dataset in combine:\n",
    "    dataset['Sex'] = dataset['Sex'].map( {'female': 1, 'male': 0} ).astype(int)\n",
    "\n",
    "train_df.head()"
   ]
  },
  {
   "cell_type": "markdown",
   "metadata": {},
   "source": [
    "Prepare an empty array to contain guessed Age values based on Pclass x Gender combinations"
   ]
  },
  {
   "cell_type": "code",
   "execution_count": 10,
   "metadata": {},
   "outputs": [
    {
     "data": {
      "text/plain": [
       "array([[0., 0., 0.],\n",
       "       [0., 0., 0.]])"
      ]
     },
     "execution_count": 10,
     "metadata": {},
     "output_type": "execute_result"
    }
   ],
   "source": [
    "guess_ages = cp.zeros((2,3))\n",
    "guess_ages"
   ]
  },
  {
   "cell_type": "markdown",
   "metadata": {},
   "source": [
    "We iterate over 'Sex' (0 or 1) and Pclass (1, 2, 3) to calculate guessed values of 'Age' for the six combinations"
   ]
  },
  {
   "cell_type": "code",
   "execution_count": 11,
   "metadata": {},
   "outputs": [
    {
     "data": {
      "text/html": [
       "<div>\n",
       "<style scoped>\n",
       "    .dataframe tbody tr th:only-of-type {\n",
       "        vertical-align: middle;\n",
       "    }\n",
       "\n",
       "    .dataframe tbody tr th {\n",
       "        vertical-align: top;\n",
       "    }\n",
       "\n",
       "    .dataframe thead th {\n",
       "        text-align: right;\n",
       "    }\n",
       "</style>\n",
       "<table border=\"1\" class=\"dataframe\">\n",
       "  <thead>\n",
       "    <tr style=\"text-align: right;\">\n",
       "      <th></th>\n",
       "      <th>Survived</th>\n",
       "      <th>Pclass</th>\n",
       "      <th>Sex</th>\n",
       "      <th>Age</th>\n",
       "      <th>SibSp</th>\n",
       "      <th>Parch</th>\n",
       "      <th>Fare</th>\n",
       "      <th>Embarked</th>\n",
       "      <th>Title</th>\n",
       "    </tr>\n",
       "  </thead>\n",
       "  <tbody>\n",
       "    <tr>\n",
       "      <th>0</th>\n",
       "      <td>0</td>\n",
       "      <td>3</td>\n",
       "      <td>0</td>\n",
       "      <td>22</td>\n",
       "      <td>1</td>\n",
       "      <td>0</td>\n",
       "      <td>7.2500</td>\n",
       "      <td>S</td>\n",
       "      <td>1</td>\n",
       "    </tr>\n",
       "    <tr>\n",
       "      <th>1</th>\n",
       "      <td>1</td>\n",
       "      <td>1</td>\n",
       "      <td>1</td>\n",
       "      <td>38</td>\n",
       "      <td>1</td>\n",
       "      <td>0</td>\n",
       "      <td>71.2833</td>\n",
       "      <td>C</td>\n",
       "      <td>3</td>\n",
       "    </tr>\n",
       "    <tr>\n",
       "      <th>2</th>\n",
       "      <td>1</td>\n",
       "      <td>3</td>\n",
       "      <td>1</td>\n",
       "      <td>26</td>\n",
       "      <td>0</td>\n",
       "      <td>0</td>\n",
       "      <td>7.9250</td>\n",
       "      <td>S</td>\n",
       "      <td>2</td>\n",
       "    </tr>\n",
       "    <tr>\n",
       "      <th>3</th>\n",
       "      <td>1</td>\n",
       "      <td>1</td>\n",
       "      <td>1</td>\n",
       "      <td>35</td>\n",
       "      <td>1</td>\n",
       "      <td>0</td>\n",
       "      <td>53.1000</td>\n",
       "      <td>S</td>\n",
       "      <td>3</td>\n",
       "    </tr>\n",
       "    <tr>\n",
       "      <th>4</th>\n",
       "      <td>0</td>\n",
       "      <td>3</td>\n",
       "      <td>0</td>\n",
       "      <td>35</td>\n",
       "      <td>0</td>\n",
       "      <td>0</td>\n",
       "      <td>8.0500</td>\n",
       "      <td>S</td>\n",
       "      <td>1</td>\n",
       "    </tr>\n",
       "  </tbody>\n",
       "</table>\n",
       "</div>"
      ],
      "text/plain": [
       "   Survived  Pclass  Sex  Age  SibSp  Parch     Fare Embarked  Title\n",
       "0         0       3    0   22      1      0   7.2500        S      1\n",
       "1         1       1    1   38      1      0  71.2833        C      3\n",
       "2         1       3    1   26      0      0   7.9250        S      2\n",
       "3         1       1    1   35      1      0  53.1000        S      3\n",
       "4         0       3    0   35      0      0   8.0500        S      1"
      ]
     },
     "execution_count": 11,
     "metadata": {},
     "output_type": "execute_result"
    }
   ],
   "source": [
    "for dataset in combine:\n",
    "    for i in range(0, 2):\n",
    "        for j in range(0, 3):\n",
    "            guess_df = dataset.loc[(dataset['Sex'] == i) & (dataset['Pclass'] == j+1), 'Age'].dropna()\n",
    "\n",
    "            # age_mean = guess_df.mean()\n",
    "            # age_std = guess_df.std()\n",
    "            # age_guess = rnd.uniform(age_mean - age_std, age_mean + age_std)\n",
    "            \n",
    "            age_guess = guess_df.median()\n",
    "\n",
    "            # Convert random age float to nearest .5 age\n",
    "            guess_ages[i, j] = int( age_guess/0.5 + 0.5 ) * 0.5\n",
    "            \n",
    "            mask = (dataset['Age'].isnull()) & (dataset['Sex'] == i) & (dataset['Pclass'] == j + 1)\n",
    "            \n",
    "            dataset.loc[mask, 'Age'] = guess_ages[i, j].get()\n",
    "\n",
    "    dataset['Age'] = dataset['Age'].astype(int)\n",
    "\n",
    "train_df.head()"
   ]
  },
  {
   "cell_type": "markdown",
   "metadata": {},
   "source": [
    "Create Age bands and determine correlations with 'Survived'"
   ]
  },
  {
   "cell_type": "code",
   "execution_count": 12,
   "metadata": {},
   "outputs": [
    {
     "data": {
      "text/html": [
       "<div>\n",
       "<style scoped>\n",
       "    .dataframe tbody tr th:only-of-type {\n",
       "        vertical-align: middle;\n",
       "    }\n",
       "\n",
       "    .dataframe tbody tr th {\n",
       "        vertical-align: top;\n",
       "    }\n",
       "\n",
       "    .dataframe thead th {\n",
       "        text-align: right;\n",
       "    }\n",
       "</style>\n",
       "<table border=\"1\" class=\"dataframe\">\n",
       "  <thead>\n",
       "    <tr style=\"text-align: right;\">\n",
       "      <th></th>\n",
       "      <th>AgeBand</th>\n",
       "      <th>Survived</th>\n",
       "    </tr>\n",
       "  </thead>\n",
       "  <tbody>\n",
       "    <tr>\n",
       "      <th>0</th>\n",
       "      <td>(-0.08, 16.0]</td>\n",
       "      <td>0.549973</td>\n",
       "    </tr>\n",
       "    <tr>\n",
       "      <th>1</th>\n",
       "      <td>(16.0, 32.0]</td>\n",
       "      <td>0.337376</td>\n",
       "    </tr>\n",
       "    <tr>\n",
       "      <th>2</th>\n",
       "      <td>(32.0, 48.0]</td>\n",
       "      <td>0.412019</td>\n",
       "    </tr>\n",
       "    <tr>\n",
       "      <th>3</th>\n",
       "      <td>(48.0, 64.0]</td>\n",
       "      <td>0.434755</td>\n",
       "    </tr>\n",
       "    <tr>\n",
       "      <th>4</th>\n",
       "      <td>(64.0, 80.0]</td>\n",
       "      <td>0.090872</td>\n",
       "    </tr>\n",
       "  </tbody>\n",
       "</table>\n",
       "</div>"
      ],
      "text/plain": [
       "         AgeBand  Survived\n",
       "0  (-0.08, 16.0]  0.549973\n",
       "1   (16.0, 32.0]  0.337376\n",
       "2   (32.0, 48.0]  0.412019\n",
       "3   (48.0, 64.0]  0.434755\n",
       "4   (64.0, 80.0]  0.090872"
      ]
     },
     "execution_count": 12,
     "metadata": {},
     "output_type": "execute_result"
    }
   ],
   "source": [
    "train_df['AgeBand'] = pd.cut(train_df['Age'], 5)\n",
    "train_df[['AgeBand', 'Survived']].groupby(['AgeBand'], as_index=False, observed = True).mean().sort_values(by='AgeBand', ascending=True)"
   ]
  },
  {
   "cell_type": "markdown",
   "metadata": {},
   "source": [
    "Replace 'Age' with ordinals based on these bands"
   ]
  },
  {
   "cell_type": "code",
   "execution_count": 13,
   "metadata": {},
   "outputs": [
    {
     "data": {
      "text/html": [
       "<div>\n",
       "<style scoped>\n",
       "    .dataframe tbody tr th:only-of-type {\n",
       "        vertical-align: middle;\n",
       "    }\n",
       "\n",
       "    .dataframe tbody tr th {\n",
       "        vertical-align: top;\n",
       "    }\n",
       "\n",
       "    .dataframe thead th {\n",
       "        text-align: right;\n",
       "    }\n",
       "</style>\n",
       "<table border=\"1\" class=\"dataframe\">\n",
       "  <thead>\n",
       "    <tr style=\"text-align: right;\">\n",
       "      <th></th>\n",
       "      <th>Survived</th>\n",
       "      <th>Pclass</th>\n",
       "      <th>Sex</th>\n",
       "      <th>Age</th>\n",
       "      <th>SibSp</th>\n",
       "      <th>Parch</th>\n",
       "      <th>Fare</th>\n",
       "      <th>Embarked</th>\n",
       "      <th>Title</th>\n",
       "      <th>AgeBand</th>\n",
       "    </tr>\n",
       "  </thead>\n",
       "  <tbody>\n",
       "    <tr>\n",
       "      <th>0</th>\n",
       "      <td>0</td>\n",
       "      <td>3</td>\n",
       "      <td>0</td>\n",
       "      <td>1</td>\n",
       "      <td>1</td>\n",
       "      <td>0</td>\n",
       "      <td>7.2500</td>\n",
       "      <td>S</td>\n",
       "      <td>1</td>\n",
       "      <td>(16.0, 32.0]</td>\n",
       "    </tr>\n",
       "    <tr>\n",
       "      <th>1</th>\n",
       "      <td>1</td>\n",
       "      <td>1</td>\n",
       "      <td>1</td>\n",
       "      <td>2</td>\n",
       "      <td>1</td>\n",
       "      <td>0</td>\n",
       "      <td>71.2833</td>\n",
       "      <td>C</td>\n",
       "      <td>3</td>\n",
       "      <td>(32.0, 48.0]</td>\n",
       "    </tr>\n",
       "    <tr>\n",
       "      <th>2</th>\n",
       "      <td>1</td>\n",
       "      <td>3</td>\n",
       "      <td>1</td>\n",
       "      <td>1</td>\n",
       "      <td>0</td>\n",
       "      <td>0</td>\n",
       "      <td>7.9250</td>\n",
       "      <td>S</td>\n",
       "      <td>2</td>\n",
       "      <td>(16.0, 32.0]</td>\n",
       "    </tr>\n",
       "    <tr>\n",
       "      <th>3</th>\n",
       "      <td>1</td>\n",
       "      <td>1</td>\n",
       "      <td>1</td>\n",
       "      <td>2</td>\n",
       "      <td>1</td>\n",
       "      <td>0</td>\n",
       "      <td>53.1000</td>\n",
       "      <td>S</td>\n",
       "      <td>3</td>\n",
       "      <td>(32.0, 48.0]</td>\n",
       "    </tr>\n",
       "    <tr>\n",
       "      <th>4</th>\n",
       "      <td>0</td>\n",
       "      <td>3</td>\n",
       "      <td>0</td>\n",
       "      <td>2</td>\n",
       "      <td>0</td>\n",
       "      <td>0</td>\n",
       "      <td>8.0500</td>\n",
       "      <td>S</td>\n",
       "      <td>1</td>\n",
       "      <td>(32.0, 48.0]</td>\n",
       "    </tr>\n",
       "  </tbody>\n",
       "</table>\n",
       "</div>"
      ],
      "text/plain": [
       "   Survived  Pclass  Sex  Age  SibSp  Parch     Fare Embarked  Title  \\\n",
       "0         0       3    0    1      1      0   7.2500        S      1   \n",
       "1         1       1    1    2      1      0  71.2833        C      3   \n",
       "2         1       3    1    1      0      0   7.9250        S      2   \n",
       "3         1       1    1    2      1      0  53.1000        S      3   \n",
       "4         0       3    0    2      0      0   8.0500        S      1   \n",
       "\n",
       "        AgeBand  \n",
       "0  (16.0, 32.0]  \n",
       "1  (32.0, 48.0]  \n",
       "2  (16.0, 32.0]  \n",
       "3  (32.0, 48.0]  \n",
       "4  (32.0, 48.0]  "
      ]
     },
     "execution_count": 13,
     "metadata": {},
     "output_type": "execute_result"
    }
   ],
   "source": [
    "for dataset in combine:    \n",
    "    dataset.loc[ dataset['Age'] <= 16, 'Age'] = 0\n",
    "    dataset.loc[(dataset['Age'] > 16) & (dataset['Age'] <= 32), 'Age'] = 1\n",
    "    dataset.loc[(dataset['Age'] > 32) & (dataset['Age'] <= 48), 'Age'] = 2\n",
    "    dataset.loc[(dataset['Age'] > 48) & (dataset['Age'] <= 64), 'Age'] = 3\n",
    "    dataset.loc[ dataset['Age'] > 64, 'Age']\n",
    "train_df.head()"
   ]
  },
  {
   "cell_type": "markdown",
   "metadata": {},
   "source": [
    "Remove 'AgeBand' feature "
   ]
  },
  {
   "cell_type": "code",
   "execution_count": 14,
   "metadata": {},
   "outputs": [
    {
     "data": {
      "text/html": [
       "<div>\n",
       "<style scoped>\n",
       "    .dataframe tbody tr th:only-of-type {\n",
       "        vertical-align: middle;\n",
       "    }\n",
       "\n",
       "    .dataframe tbody tr th {\n",
       "        vertical-align: top;\n",
       "    }\n",
       "\n",
       "    .dataframe thead th {\n",
       "        text-align: right;\n",
       "    }\n",
       "</style>\n",
       "<table border=\"1\" class=\"dataframe\">\n",
       "  <thead>\n",
       "    <tr style=\"text-align: right;\">\n",
       "      <th></th>\n",
       "      <th>Survived</th>\n",
       "      <th>Pclass</th>\n",
       "      <th>Sex</th>\n",
       "      <th>Age</th>\n",
       "      <th>SibSp</th>\n",
       "      <th>Parch</th>\n",
       "      <th>Fare</th>\n",
       "      <th>Embarked</th>\n",
       "      <th>Title</th>\n",
       "    </tr>\n",
       "  </thead>\n",
       "  <tbody>\n",
       "    <tr>\n",
       "      <th>0</th>\n",
       "      <td>0</td>\n",
       "      <td>3</td>\n",
       "      <td>0</td>\n",
       "      <td>1</td>\n",
       "      <td>1</td>\n",
       "      <td>0</td>\n",
       "      <td>7.2500</td>\n",
       "      <td>S</td>\n",
       "      <td>1</td>\n",
       "    </tr>\n",
       "    <tr>\n",
       "      <th>1</th>\n",
       "      <td>1</td>\n",
       "      <td>1</td>\n",
       "      <td>1</td>\n",
       "      <td>2</td>\n",
       "      <td>1</td>\n",
       "      <td>0</td>\n",
       "      <td>71.2833</td>\n",
       "      <td>C</td>\n",
       "      <td>3</td>\n",
       "    </tr>\n",
       "    <tr>\n",
       "      <th>2</th>\n",
       "      <td>1</td>\n",
       "      <td>3</td>\n",
       "      <td>1</td>\n",
       "      <td>1</td>\n",
       "      <td>0</td>\n",
       "      <td>0</td>\n",
       "      <td>7.9250</td>\n",
       "      <td>S</td>\n",
       "      <td>2</td>\n",
       "    </tr>\n",
       "    <tr>\n",
       "      <th>3</th>\n",
       "      <td>1</td>\n",
       "      <td>1</td>\n",
       "      <td>1</td>\n",
       "      <td>2</td>\n",
       "      <td>1</td>\n",
       "      <td>0</td>\n",
       "      <td>53.1000</td>\n",
       "      <td>S</td>\n",
       "      <td>3</td>\n",
       "    </tr>\n",
       "    <tr>\n",
       "      <th>4</th>\n",
       "      <td>0</td>\n",
       "      <td>3</td>\n",
       "      <td>0</td>\n",
       "      <td>2</td>\n",
       "      <td>0</td>\n",
       "      <td>0</td>\n",
       "      <td>8.0500</td>\n",
       "      <td>S</td>\n",
       "      <td>1</td>\n",
       "    </tr>\n",
       "  </tbody>\n",
       "</table>\n",
       "</div>"
      ],
      "text/plain": [
       "   Survived  Pclass  Sex  Age  SibSp  Parch     Fare Embarked  Title\n",
       "0         0       3    0    1      1      0   7.2500        S      1\n",
       "1         1       1    1    2      1      0  71.2833        C      3\n",
       "2         1       3    1    1      0      0   7.9250        S      2\n",
       "3         1       1    1    2      1      0  53.1000        S      3\n",
       "4         0       3    0    2      0      0   8.0500        S      1"
      ]
     },
     "execution_count": 14,
     "metadata": {},
     "output_type": "execute_result"
    }
   ],
   "source": [
    "train_df = train_df.drop(['AgeBand'], axis=1)\n",
    "combine = [train_df, test_df]\n",
    "train_df.head()"
   ]
  },
  {
   "cell_type": "markdown",
   "metadata": {},
   "source": [
    "Create a new feature for 'FamilySize' which combines 'Parch' and 'SibSp'. This will allow us to drop 'Parch' and 'SibSp'."
   ]
  },
  {
   "cell_type": "code",
   "execution_count": 15,
   "metadata": {},
   "outputs": [
    {
     "data": {
      "text/html": [
       "<div>\n",
       "<style scoped>\n",
       "    .dataframe tbody tr th:only-of-type {\n",
       "        vertical-align: middle;\n",
       "    }\n",
       "\n",
       "    .dataframe tbody tr th {\n",
       "        vertical-align: top;\n",
       "    }\n",
       "\n",
       "    .dataframe thead th {\n",
       "        text-align: right;\n",
       "    }\n",
       "</style>\n",
       "<table border=\"1\" class=\"dataframe\">\n",
       "  <thead>\n",
       "    <tr style=\"text-align: right;\">\n",
       "      <th></th>\n",
       "      <th>FamilySize</th>\n",
       "      <th>Survived</th>\n",
       "    </tr>\n",
       "  </thead>\n",
       "  <tbody>\n",
       "    <tr>\n",
       "      <th>3</th>\n",
       "      <td>4</td>\n",
       "      <td>0.724127</td>\n",
       "    </tr>\n",
       "    <tr>\n",
       "      <th>2</th>\n",
       "      <td>3</td>\n",
       "      <td>0.578411</td>\n",
       "    </tr>\n",
       "    <tr>\n",
       "      <th>1</th>\n",
       "      <td>2</td>\n",
       "      <td>0.552758</td>\n",
       "    </tr>\n",
       "    <tr>\n",
       "      <th>6</th>\n",
       "      <td>7</td>\n",
       "      <td>0.333457</td>\n",
       "    </tr>\n",
       "    <tr>\n",
       "      <th>0</th>\n",
       "      <td>1</td>\n",
       "      <td>0.303542</td>\n",
       "    </tr>\n",
       "    <tr>\n",
       "      <th>4</th>\n",
       "      <td>5</td>\n",
       "      <td>0.199929</td>\n",
       "    </tr>\n",
       "    <tr>\n",
       "      <th>5</th>\n",
       "      <td>6</td>\n",
       "      <td>0.136349</td>\n",
       "    </tr>\n",
       "    <tr>\n",
       "      <th>7</th>\n",
       "      <td>8</td>\n",
       "      <td>0.000000</td>\n",
       "    </tr>\n",
       "    <tr>\n",
       "      <th>8</th>\n",
       "      <td>11</td>\n",
       "      <td>0.000000</td>\n",
       "    </tr>\n",
       "  </tbody>\n",
       "</table>\n",
       "</div>"
      ],
      "text/plain": [
       "   FamilySize  Survived\n",
       "3           4  0.724127\n",
       "2           3  0.578411\n",
       "1           2  0.552758\n",
       "6           7  0.333457\n",
       "0           1  0.303542\n",
       "4           5  0.199929\n",
       "5           6  0.136349\n",
       "7           8  0.000000\n",
       "8          11  0.000000"
      ]
     },
     "execution_count": 15,
     "metadata": {},
     "output_type": "execute_result"
    }
   ],
   "source": [
    "for dataset in combine:\n",
    "    dataset['FamilySize'] = dataset['SibSp'] + dataset['Parch'] + 1\n",
    "\n",
    "train_df[['FamilySize', 'Survived']].groupby(['FamilySize'], as_index=False).mean().sort_values(by='Survived', ascending=False)"
   ]
  },
  {
   "cell_type": "markdown",
   "metadata": {},
   "source": [
    "Create another feature called 'IsAlone'"
   ]
  },
  {
   "cell_type": "code",
   "execution_count": 16,
   "metadata": {},
   "outputs": [
    {
     "data": {
      "text/html": [
       "<div>\n",
       "<style scoped>\n",
       "    .dataframe tbody tr th:only-of-type {\n",
       "        vertical-align: middle;\n",
       "    }\n",
       "\n",
       "    .dataframe tbody tr th {\n",
       "        vertical-align: top;\n",
       "    }\n",
       "\n",
       "    .dataframe thead th {\n",
       "        text-align: right;\n",
       "    }\n",
       "</style>\n",
       "<table border=\"1\" class=\"dataframe\">\n",
       "  <thead>\n",
       "    <tr style=\"text-align: right;\">\n",
       "      <th></th>\n",
       "      <th>IsAlone</th>\n",
       "      <th>Survived</th>\n",
       "    </tr>\n",
       "  </thead>\n",
       "  <tbody>\n",
       "    <tr>\n",
       "      <th>0</th>\n",
       "      <td>0</td>\n",
       "      <td>0.505619</td>\n",
       "    </tr>\n",
       "    <tr>\n",
       "      <th>1</th>\n",
       "      <td>1</td>\n",
       "      <td>0.303542</td>\n",
       "    </tr>\n",
       "  </tbody>\n",
       "</table>\n",
       "</div>"
      ],
      "text/plain": [
       "   IsAlone  Survived\n",
       "0        0  0.505619\n",
       "1        1  0.303542"
      ]
     },
     "execution_count": 16,
     "metadata": {},
     "output_type": "execute_result"
    }
   ],
   "source": [
    "for dataset in combine:\n",
    "    dataset['IsAlone'] = 0\n",
    "    dataset.loc[dataset['FamilySize'] == 1, 'IsAlone'] = 1\n",
    "\n",
    "train_df[['IsAlone', 'Survived']].groupby(['IsAlone'], as_index=False).mean()"
   ]
  },
  {
   "cell_type": "markdown",
   "metadata": {},
   "source": [
    "Drop 'Parch', 'SibSp', and 'FamilySize' features in favor of 'IsAlone'"
   ]
  },
  {
   "cell_type": "code",
   "execution_count": 17,
   "metadata": {},
   "outputs": [
    {
     "data": {
      "text/html": [
       "<div>\n",
       "<style scoped>\n",
       "    .dataframe tbody tr th:only-of-type {\n",
       "        vertical-align: middle;\n",
       "    }\n",
       "\n",
       "    .dataframe tbody tr th {\n",
       "        vertical-align: top;\n",
       "    }\n",
       "\n",
       "    .dataframe thead th {\n",
       "        text-align: right;\n",
       "    }\n",
       "</style>\n",
       "<table border=\"1\" class=\"dataframe\">\n",
       "  <thead>\n",
       "    <tr style=\"text-align: right;\">\n",
       "      <th></th>\n",
       "      <th>Survived</th>\n",
       "      <th>Pclass</th>\n",
       "      <th>Sex</th>\n",
       "      <th>Age</th>\n",
       "      <th>Fare</th>\n",
       "      <th>Embarked</th>\n",
       "      <th>Title</th>\n",
       "      <th>IsAlone</th>\n",
       "    </tr>\n",
       "  </thead>\n",
       "  <tbody>\n",
       "    <tr>\n",
       "      <th>0</th>\n",
       "      <td>0</td>\n",
       "      <td>3</td>\n",
       "      <td>0</td>\n",
       "      <td>1</td>\n",
       "      <td>7.2500</td>\n",
       "      <td>S</td>\n",
       "      <td>1</td>\n",
       "      <td>0</td>\n",
       "    </tr>\n",
       "    <tr>\n",
       "      <th>1</th>\n",
       "      <td>1</td>\n",
       "      <td>1</td>\n",
       "      <td>1</td>\n",
       "      <td>2</td>\n",
       "      <td>71.2833</td>\n",
       "      <td>C</td>\n",
       "      <td>3</td>\n",
       "      <td>0</td>\n",
       "    </tr>\n",
       "    <tr>\n",
       "      <th>2</th>\n",
       "      <td>1</td>\n",
       "      <td>3</td>\n",
       "      <td>1</td>\n",
       "      <td>1</td>\n",
       "      <td>7.9250</td>\n",
       "      <td>S</td>\n",
       "      <td>2</td>\n",
       "      <td>1</td>\n",
       "    </tr>\n",
       "    <tr>\n",
       "      <th>3</th>\n",
       "      <td>1</td>\n",
       "      <td>1</td>\n",
       "      <td>1</td>\n",
       "      <td>2</td>\n",
       "      <td>53.1000</td>\n",
       "      <td>S</td>\n",
       "      <td>3</td>\n",
       "      <td>0</td>\n",
       "    </tr>\n",
       "    <tr>\n",
       "      <th>4</th>\n",
       "      <td>0</td>\n",
       "      <td>3</td>\n",
       "      <td>0</td>\n",
       "      <td>2</td>\n",
       "      <td>8.0500</td>\n",
       "      <td>S</td>\n",
       "      <td>1</td>\n",
       "      <td>1</td>\n",
       "    </tr>\n",
       "  </tbody>\n",
       "</table>\n",
       "</div>"
      ],
      "text/plain": [
       "   Survived  Pclass  Sex  Age     Fare Embarked  Title  IsAlone\n",
       "0         0       3    0    1   7.2500        S      1        0\n",
       "1         1       1    1    2  71.2833        C      3        0\n",
       "2         1       3    1    1   7.9250        S      2        1\n",
       "3         1       1    1    2  53.1000        S      3        0\n",
       "4         0       3    0    2   8.0500        S      1        1"
      ]
     },
     "execution_count": 17,
     "metadata": {},
     "output_type": "execute_result"
    }
   ],
   "source": [
    "train_df = train_df.drop(['Parch', 'SibSp', 'FamilySize'], axis=1)\n",
    "test_df = test_df.drop(['Parch', 'SibSp', 'FamilySize'], axis=1)\n",
    "combine = [train_df, test_df]\n",
    "\n",
    "train_df.head()"
   ]
  },
  {
   "cell_type": "markdown",
   "metadata": {},
   "source": [
    "Create an artificial feature combining 'Pclass' and 'Age'"
   ]
  },
  {
   "cell_type": "code",
   "execution_count": 18,
   "metadata": {},
   "outputs": [
    {
     "data": {
      "text/html": [
       "<div>\n",
       "<style scoped>\n",
       "    .dataframe tbody tr th:only-of-type {\n",
       "        vertical-align: middle;\n",
       "    }\n",
       "\n",
       "    .dataframe tbody tr th {\n",
       "        vertical-align: top;\n",
       "    }\n",
       "\n",
       "    .dataframe thead th {\n",
       "        text-align: right;\n",
       "    }\n",
       "</style>\n",
       "<table border=\"1\" class=\"dataframe\">\n",
       "  <thead>\n",
       "    <tr style=\"text-align: right;\">\n",
       "      <th></th>\n",
       "      <th>Age*Class</th>\n",
       "      <th>Age</th>\n",
       "      <th>Pclass</th>\n",
       "    </tr>\n",
       "  </thead>\n",
       "  <tbody>\n",
       "    <tr>\n",
       "      <th>0</th>\n",
       "      <td>3</td>\n",
       "      <td>1</td>\n",
       "      <td>3</td>\n",
       "    </tr>\n",
       "    <tr>\n",
       "      <th>1</th>\n",
       "      <td>2</td>\n",
       "      <td>2</td>\n",
       "      <td>1</td>\n",
       "    </tr>\n",
       "    <tr>\n",
       "      <th>2</th>\n",
       "      <td>3</td>\n",
       "      <td>1</td>\n",
       "      <td>3</td>\n",
       "    </tr>\n",
       "    <tr>\n",
       "      <th>3</th>\n",
       "      <td>2</td>\n",
       "      <td>2</td>\n",
       "      <td>1</td>\n",
       "    </tr>\n",
       "    <tr>\n",
       "      <th>4</th>\n",
       "      <td>6</td>\n",
       "      <td>2</td>\n",
       "      <td>3</td>\n",
       "    </tr>\n",
       "    <tr>\n",
       "      <th>5</th>\n",
       "      <td>3</td>\n",
       "      <td>1</td>\n",
       "      <td>3</td>\n",
       "    </tr>\n",
       "    <tr>\n",
       "      <th>6</th>\n",
       "      <td>3</td>\n",
       "      <td>3</td>\n",
       "      <td>1</td>\n",
       "    </tr>\n",
       "    <tr>\n",
       "      <th>7</th>\n",
       "      <td>0</td>\n",
       "      <td>0</td>\n",
       "      <td>3</td>\n",
       "    </tr>\n",
       "    <tr>\n",
       "      <th>8</th>\n",
       "      <td>3</td>\n",
       "      <td>1</td>\n",
       "      <td>3</td>\n",
       "    </tr>\n",
       "    <tr>\n",
       "      <th>9</th>\n",
       "      <td>0</td>\n",
       "      <td>0</td>\n",
       "      <td>2</td>\n",
       "    </tr>\n",
       "  </tbody>\n",
       "</table>\n",
       "</div>"
      ],
      "text/plain": [
       "   Age*Class  Age  Pclass\n",
       "0          3    1       3\n",
       "1          2    2       1\n",
       "2          3    1       3\n",
       "3          2    2       1\n",
       "4          6    2       3\n",
       "5          3    1       3\n",
       "6          3    3       1\n",
       "7          0    0       3\n",
       "8          3    1       3\n",
       "9          0    0       2"
      ]
     },
     "execution_count": 18,
     "metadata": {},
     "output_type": "execute_result"
    }
   ],
   "source": [
    "for dataset in combine:\n",
    "    dataset['Age*Class'] = dataset.Age * dataset.Pclass\n",
    "\n",
    "train_df.loc[:, ['Age*Class', 'Age', 'Pclass']].head(10)"
   ]
  },
  {
   "cell_type": "markdown",
   "metadata": {},
   "source": [
    "'Embarked' feature takes S, Q, C values based on port of embarkation. Our training dataset has two missing values. We simply fill these with the most common occurance."
   ]
  },
  {
   "cell_type": "code",
   "execution_count": 19,
   "metadata": {},
   "outputs": [
    {
     "data": {
      "text/plain": [
       "'S'"
      ]
     },
     "execution_count": 19,
     "metadata": {},
     "output_type": "execute_result"
    }
   ],
   "source": [
    "freq_port = train_df.Embarked.dropna().mode()[0]\n",
    "freq_port"
   ]
  },
  {
   "cell_type": "code",
   "execution_count": 20,
   "metadata": {},
   "outputs": [
    {
     "data": {
      "text/html": [
       "<div>\n",
       "<style scoped>\n",
       "    .dataframe tbody tr th:only-of-type {\n",
       "        vertical-align: middle;\n",
       "    }\n",
       "\n",
       "    .dataframe tbody tr th {\n",
       "        vertical-align: top;\n",
       "    }\n",
       "\n",
       "    .dataframe thead th {\n",
       "        text-align: right;\n",
       "    }\n",
       "</style>\n",
       "<table border=\"1\" class=\"dataframe\">\n",
       "  <thead>\n",
       "    <tr style=\"text-align: right;\">\n",
       "      <th></th>\n",
       "      <th>Embarked</th>\n",
       "      <th>Survived</th>\n",
       "    </tr>\n",
       "  </thead>\n",
       "  <tbody>\n",
       "    <tr>\n",
       "      <th>0</th>\n",
       "      <td>C</td>\n",
       "      <td>0.553533</td>\n",
       "    </tr>\n",
       "    <tr>\n",
       "      <th>1</th>\n",
       "      <td>Q</td>\n",
       "      <td>0.389642</td>\n",
       "    </tr>\n",
       "    <tr>\n",
       "      <th>2</th>\n",
       "      <td>S</td>\n",
       "      <td>0.339005</td>\n",
       "    </tr>\n",
       "  </tbody>\n",
       "</table>\n",
       "</div>"
      ],
      "text/plain": [
       "  Embarked  Survived\n",
       "0        C  0.553533\n",
       "1        Q  0.389642\n",
       "2        S  0.339005"
      ]
     },
     "execution_count": 20,
     "metadata": {},
     "output_type": "execute_result"
    }
   ],
   "source": [
    "for dataset in combine:\n",
    "    dataset['Embarked'] = dataset['Embarked'].fillna(freq_port)\n",
    "    \n",
    "train_df[['Embarked', 'Survived']].groupby(['Embarked'], as_index=False).mean().sort_values(by='Survived', ascending=False)"
   ]
  },
  {
   "cell_type": "markdown",
   "metadata": {},
   "source": [
    "Convert the categorical 'Embarked' feature into numeric"
   ]
  },
  {
   "cell_type": "code",
   "execution_count": 21,
   "metadata": {},
   "outputs": [
    {
     "data": {
      "text/html": [
       "<div>\n",
       "<style scoped>\n",
       "    .dataframe tbody tr th:only-of-type {\n",
       "        vertical-align: middle;\n",
       "    }\n",
       "\n",
       "    .dataframe tbody tr th {\n",
       "        vertical-align: top;\n",
       "    }\n",
       "\n",
       "    .dataframe thead th {\n",
       "        text-align: right;\n",
       "    }\n",
       "</style>\n",
       "<table border=\"1\" class=\"dataframe\">\n",
       "  <thead>\n",
       "    <tr style=\"text-align: right;\">\n",
       "      <th></th>\n",
       "      <th>Survived</th>\n",
       "      <th>Pclass</th>\n",
       "      <th>Sex</th>\n",
       "      <th>Age</th>\n",
       "      <th>Fare</th>\n",
       "      <th>Embarked</th>\n",
       "      <th>Title</th>\n",
       "      <th>IsAlone</th>\n",
       "      <th>Age*Class</th>\n",
       "    </tr>\n",
       "  </thead>\n",
       "  <tbody>\n",
       "    <tr>\n",
       "      <th>0</th>\n",
       "      <td>0</td>\n",
       "      <td>3</td>\n",
       "      <td>0</td>\n",
       "      <td>1</td>\n",
       "      <td>7.2500</td>\n",
       "      <td>0</td>\n",
       "      <td>1</td>\n",
       "      <td>0</td>\n",
       "      <td>3</td>\n",
       "    </tr>\n",
       "    <tr>\n",
       "      <th>1</th>\n",
       "      <td>1</td>\n",
       "      <td>1</td>\n",
       "      <td>1</td>\n",
       "      <td>2</td>\n",
       "      <td>71.2833</td>\n",
       "      <td>1</td>\n",
       "      <td>3</td>\n",
       "      <td>0</td>\n",
       "      <td>2</td>\n",
       "    </tr>\n",
       "    <tr>\n",
       "      <th>2</th>\n",
       "      <td>1</td>\n",
       "      <td>3</td>\n",
       "      <td>1</td>\n",
       "      <td>1</td>\n",
       "      <td>7.9250</td>\n",
       "      <td>0</td>\n",
       "      <td>2</td>\n",
       "      <td>1</td>\n",
       "      <td>3</td>\n",
       "    </tr>\n",
       "    <tr>\n",
       "      <th>3</th>\n",
       "      <td>1</td>\n",
       "      <td>1</td>\n",
       "      <td>1</td>\n",
       "      <td>2</td>\n",
       "      <td>53.1000</td>\n",
       "      <td>0</td>\n",
       "      <td>3</td>\n",
       "      <td>0</td>\n",
       "      <td>2</td>\n",
       "    </tr>\n",
       "    <tr>\n",
       "      <th>4</th>\n",
       "      <td>0</td>\n",
       "      <td>3</td>\n",
       "      <td>0</td>\n",
       "      <td>2</td>\n",
       "      <td>8.0500</td>\n",
       "      <td>0</td>\n",
       "      <td>1</td>\n",
       "      <td>1</td>\n",
       "      <td>6</td>\n",
       "    </tr>\n",
       "  </tbody>\n",
       "</table>\n",
       "</div>"
      ],
      "text/plain": [
       "   Survived  Pclass  Sex  Age     Fare  Embarked  Title  IsAlone  Age*Class\n",
       "0         0       3    0    1   7.2500         0      1        0          3\n",
       "1         1       1    1    2  71.2833         1      3        0          2\n",
       "2         1       3    1    1   7.9250         0      2        1          3\n",
       "3         1       1    1    2  53.1000         0      3        0          2\n",
       "4         0       3    0    2   8.0500         0      1        1          6"
      ]
     },
     "execution_count": 21,
     "metadata": {},
     "output_type": "execute_result"
    }
   ],
   "source": [
    "for dataset in combine:\n",
    "    dataset['Embarked'] = dataset['Embarked'].map( {'S': 0, 'C': 1, 'Q': 2} ).astype(int)\n",
    "\n",
    "train_df.head()"
   ]
  },
  {
   "cell_type": "markdown",
   "metadata": {},
   "source": [
    "Round off the fare to two decimals as it represents currency"
   ]
  },
  {
   "cell_type": "code",
   "execution_count": 22,
   "metadata": {},
   "outputs": [
    {
     "data": {
      "text/html": [
       "<div>\n",
       "<style scoped>\n",
       "    .dataframe tbody tr th:only-of-type {\n",
       "        vertical-align: middle;\n",
       "    }\n",
       "\n",
       "    .dataframe tbody tr th {\n",
       "        vertical-align: top;\n",
       "    }\n",
       "\n",
       "    .dataframe thead th {\n",
       "        text-align: right;\n",
       "    }\n",
       "</style>\n",
       "<table border=\"1\" class=\"dataframe\">\n",
       "  <thead>\n",
       "    <tr style=\"text-align: right;\">\n",
       "      <th></th>\n",
       "      <th>PassengerId</th>\n",
       "      <th>Pclass</th>\n",
       "      <th>Sex</th>\n",
       "      <th>Age</th>\n",
       "      <th>Fare</th>\n",
       "      <th>Embarked</th>\n",
       "      <th>Title</th>\n",
       "      <th>IsAlone</th>\n",
       "      <th>Age*Class</th>\n",
       "    </tr>\n",
       "  </thead>\n",
       "  <tbody>\n",
       "    <tr>\n",
       "      <th>0</th>\n",
       "      <td>892</td>\n",
       "      <td>3</td>\n",
       "      <td>0</td>\n",
       "      <td>2</td>\n",
       "      <td>7.8292</td>\n",
       "      <td>2</td>\n",
       "      <td>1</td>\n",
       "      <td>1</td>\n",
       "      <td>6</td>\n",
       "    </tr>\n",
       "    <tr>\n",
       "      <th>1</th>\n",
       "      <td>893</td>\n",
       "      <td>3</td>\n",
       "      <td>1</td>\n",
       "      <td>2</td>\n",
       "      <td>7.0000</td>\n",
       "      <td>0</td>\n",
       "      <td>3</td>\n",
       "      <td>0</td>\n",
       "      <td>6</td>\n",
       "    </tr>\n",
       "    <tr>\n",
       "      <th>2</th>\n",
       "      <td>894</td>\n",
       "      <td>2</td>\n",
       "      <td>0</td>\n",
       "      <td>3</td>\n",
       "      <td>9.6875</td>\n",
       "      <td>2</td>\n",
       "      <td>1</td>\n",
       "      <td>1</td>\n",
       "      <td>6</td>\n",
       "    </tr>\n",
       "    <tr>\n",
       "      <th>3</th>\n",
       "      <td>895</td>\n",
       "      <td>3</td>\n",
       "      <td>0</td>\n",
       "      <td>1</td>\n",
       "      <td>8.6625</td>\n",
       "      <td>0</td>\n",
       "      <td>1</td>\n",
       "      <td>1</td>\n",
       "      <td>3</td>\n",
       "    </tr>\n",
       "    <tr>\n",
       "      <th>4</th>\n",
       "      <td>896</td>\n",
       "      <td>3</td>\n",
       "      <td>1</td>\n",
       "      <td>1</td>\n",
       "      <td>12.2875</td>\n",
       "      <td>0</td>\n",
       "      <td>3</td>\n",
       "      <td>0</td>\n",
       "      <td>3</td>\n",
       "    </tr>\n",
       "  </tbody>\n",
       "</table>\n",
       "</div>"
      ],
      "text/plain": [
       "   PassengerId  Pclass  Sex  Age     Fare  Embarked  Title  IsAlone  Age*Class\n",
       "0          892       3    0    2   7.8292         2      1        1          6\n",
       "1          893       3    1    2   7.0000         0      3        0          6\n",
       "2          894       2    0    3   9.6875         2      1        1          6\n",
       "3          895       3    0    1   8.6625         0      1        1          3\n",
       "4          896       3    1    1  12.2875         0      3        0          3"
      ]
     },
     "execution_count": 22,
     "metadata": {},
     "output_type": "execute_result"
    }
   ],
   "source": [
    "test_df['Fare'].fillna(test_df['Fare'].dropna().median(), inplace=True)\n",
    "test_df.head()"
   ]
  },
  {
   "cell_type": "markdown",
   "metadata": {},
   "source": [
    "Create 'FareBand' feature"
   ]
  },
  {
   "cell_type": "code",
   "execution_count": 23,
   "metadata": {},
   "outputs": [
    {
     "data": {
      "text/html": [
       "<div>\n",
       "<style scoped>\n",
       "    .dataframe tbody tr th:only-of-type {\n",
       "        vertical-align: middle;\n",
       "    }\n",
       "\n",
       "    .dataframe tbody tr th {\n",
       "        vertical-align: top;\n",
       "    }\n",
       "\n",
       "    .dataframe thead th {\n",
       "        text-align: right;\n",
       "    }\n",
       "</style>\n",
       "<table border=\"1\" class=\"dataframe\">\n",
       "  <thead>\n",
       "    <tr style=\"text-align: right;\">\n",
       "      <th></th>\n",
       "      <th>FareBand</th>\n",
       "      <th>Survived</th>\n",
       "    </tr>\n",
       "  </thead>\n",
       "  <tbody>\n",
       "    <tr>\n",
       "      <th>0</th>\n",
       "      <td>(0.0, 7.896]</td>\n",
       "      <td>0.206753</td>\n",
       "    </tr>\n",
       "    <tr>\n",
       "      <th>1</th>\n",
       "      <td>(14.454, 31.0]</td>\n",
       "      <td>0.454943</td>\n",
       "    </tr>\n",
       "    <tr>\n",
       "      <th>2</th>\n",
       "      <td>(31.0, 512.329]</td>\n",
       "      <td>0.581045</td>\n",
       "    </tr>\n",
       "    <tr>\n",
       "      <th>3</th>\n",
       "      <td>(7.896, 14.454]</td>\n",
       "      <td>0.303565</td>\n",
       "    </tr>\n",
       "  </tbody>\n",
       "</table>\n",
       "</div>"
      ],
      "text/plain": [
       "          FareBand  Survived\n",
       "0     (0.0, 7.896]  0.206753\n",
       "1   (14.454, 31.0]  0.454943\n",
       "2  (31.0, 512.329]  0.581045\n",
       "3  (7.896, 14.454]  0.303565"
      ]
     },
     "execution_count": 23,
     "metadata": {},
     "output_type": "execute_result"
    }
   ],
   "source": [
    "num_bins = 4\n",
    "quantiles = cp.percentile(cp.array(train_df['Fare']), q=cp.linspace(0, 100, num_bins + 1))\n",
    "bin_indices = cp.digitize(cp.array(train_df['Fare']), bins=quantiles, right=True) - 1\n",
    "labels = [f\"({cp.round(quantiles[i], 3)}, {cp.round(quantiles[i+1], 3)}]\" for i in range(0, num_bins)]\n",
    "train_df['FareBand'] = pd.Series([labels[int(i)] if 0 <= i < len(labels) else None for i in bin_indices])\n",
    "train_df[['FareBand', 'Survived']].groupby(['FareBand'], as_index=False).mean().sort_values(by='FareBand', ascending=True)"
   ]
  },
  {
   "cell_type": "markdown",
   "metadata": {},
   "source": [
    "Convert the 'Fare' feature to ordinal values based on the 'FareBand'"
   ]
  },
  {
   "cell_type": "code",
   "execution_count": 24,
   "metadata": {},
   "outputs": [
    {
     "data": {
      "text/html": [
       "<div>\n",
       "<style scoped>\n",
       "    .dataframe tbody tr th:only-of-type {\n",
       "        vertical-align: middle;\n",
       "    }\n",
       "\n",
       "    .dataframe tbody tr th {\n",
       "        vertical-align: top;\n",
       "    }\n",
       "\n",
       "    .dataframe thead th {\n",
       "        text-align: right;\n",
       "    }\n",
       "</style>\n",
       "<table border=\"1\" class=\"dataframe\">\n",
       "  <thead>\n",
       "    <tr style=\"text-align: right;\">\n",
       "      <th></th>\n",
       "      <th>Survived</th>\n",
       "      <th>Pclass</th>\n",
       "      <th>Sex</th>\n",
       "      <th>Age</th>\n",
       "      <th>Fare</th>\n",
       "      <th>Embarked</th>\n",
       "      <th>Title</th>\n",
       "      <th>IsAlone</th>\n",
       "      <th>Age*Class</th>\n",
       "    </tr>\n",
       "  </thead>\n",
       "  <tbody>\n",
       "    <tr>\n",
       "      <th>0</th>\n",
       "      <td>0</td>\n",
       "      <td>3</td>\n",
       "      <td>0</td>\n",
       "      <td>1</td>\n",
       "      <td>0</td>\n",
       "      <td>0</td>\n",
       "      <td>1</td>\n",
       "      <td>0</td>\n",
       "      <td>3</td>\n",
       "    </tr>\n",
       "    <tr>\n",
       "      <th>1</th>\n",
       "      <td>1</td>\n",
       "      <td>1</td>\n",
       "      <td>1</td>\n",
       "      <td>2</td>\n",
       "      <td>3</td>\n",
       "      <td>1</td>\n",
       "      <td>3</td>\n",
       "      <td>0</td>\n",
       "      <td>2</td>\n",
       "    </tr>\n",
       "    <tr>\n",
       "      <th>2</th>\n",
       "      <td>1</td>\n",
       "      <td>3</td>\n",
       "      <td>1</td>\n",
       "      <td>1</td>\n",
       "      <td>1</td>\n",
       "      <td>0</td>\n",
       "      <td>2</td>\n",
       "      <td>1</td>\n",
       "      <td>3</td>\n",
       "    </tr>\n",
       "    <tr>\n",
       "      <th>3</th>\n",
       "      <td>1</td>\n",
       "      <td>1</td>\n",
       "      <td>1</td>\n",
       "      <td>2</td>\n",
       "      <td>3</td>\n",
       "      <td>0</td>\n",
       "      <td>3</td>\n",
       "      <td>0</td>\n",
       "      <td>2</td>\n",
       "    </tr>\n",
       "    <tr>\n",
       "      <th>4</th>\n",
       "      <td>0</td>\n",
       "      <td>3</td>\n",
       "      <td>0</td>\n",
       "      <td>2</td>\n",
       "      <td>1</td>\n",
       "      <td>0</td>\n",
       "      <td>1</td>\n",
       "      <td>1</td>\n",
       "      <td>6</td>\n",
       "    </tr>\n",
       "    <tr>\n",
       "      <th>5</th>\n",
       "      <td>0</td>\n",
       "      <td>3</td>\n",
       "      <td>0</td>\n",
       "      <td>1</td>\n",
       "      <td>1</td>\n",
       "      <td>2</td>\n",
       "      <td>1</td>\n",
       "      <td>1</td>\n",
       "      <td>3</td>\n",
       "    </tr>\n",
       "    <tr>\n",
       "      <th>6</th>\n",
       "      <td>0</td>\n",
       "      <td>1</td>\n",
       "      <td>0</td>\n",
       "      <td>3</td>\n",
       "      <td>3</td>\n",
       "      <td>0</td>\n",
       "      <td>1</td>\n",
       "      <td>1</td>\n",
       "      <td>3</td>\n",
       "    </tr>\n",
       "    <tr>\n",
       "      <th>7</th>\n",
       "      <td>0</td>\n",
       "      <td>3</td>\n",
       "      <td>0</td>\n",
       "      <td>0</td>\n",
       "      <td>2</td>\n",
       "      <td>0</td>\n",
       "      <td>4</td>\n",
       "      <td>0</td>\n",
       "      <td>0</td>\n",
       "    </tr>\n",
       "    <tr>\n",
       "      <th>8</th>\n",
       "      <td>1</td>\n",
       "      <td>3</td>\n",
       "      <td>1</td>\n",
       "      <td>1</td>\n",
       "      <td>1</td>\n",
       "      <td>0</td>\n",
       "      <td>3</td>\n",
       "      <td>0</td>\n",
       "      <td>3</td>\n",
       "    </tr>\n",
       "    <tr>\n",
       "      <th>9</th>\n",
       "      <td>1</td>\n",
       "      <td>2</td>\n",
       "      <td>1</td>\n",
       "      <td>0</td>\n",
       "      <td>2</td>\n",
       "      <td>1</td>\n",
       "      <td>3</td>\n",
       "      <td>0</td>\n",
       "      <td>0</td>\n",
       "    </tr>\n",
       "  </tbody>\n",
       "</table>\n",
       "</div>"
      ],
      "text/plain": [
       "   Survived  Pclass  Sex  Age  Fare  Embarked  Title  IsAlone  Age*Class\n",
       "0         0       3    0    1     0         0      1        0          3\n",
       "1         1       1    1    2     3         1      3        0          2\n",
       "2         1       3    1    1     1         0      2        1          3\n",
       "3         1       1    1    2     3         0      3        0          2\n",
       "4         0       3    0    2     1         0      1        1          6\n",
       "5         0       3    0    1     1         2      1        1          3\n",
       "6         0       1    0    3     3         0      1        1          3\n",
       "7         0       3    0    0     2         0      4        0          0\n",
       "8         1       3    1    1     1         0      3        0          3\n",
       "9         1       2    1    0     2         1      3        0          0"
      ]
     },
     "execution_count": 24,
     "metadata": {},
     "output_type": "execute_result"
    }
   ],
   "source": [
    "for dataset in combine:\n",
    "    dataset.loc[ dataset['Fare'] <= 7.91, 'Fare'] = 0\n",
    "    dataset.loc[(dataset['Fare'] > 7.91) & (dataset['Fare'] <= 14.454), 'Fare'] = 1\n",
    "    dataset.loc[(dataset['Fare'] > 14.454) & (dataset['Fare'] <= 31), 'Fare']   = 2\n",
    "    dataset.loc[ dataset['Fare'] > 31, 'Fare'] = 3\n",
    "    dataset['Fare'] = dataset['Fare'].astype(int)\n",
    "\n",
    "train_df = train_df.drop(['FareBand'], axis=1)\n",
    "combine = [train_df, test_df]\n",
    "    \n",
    "train_df.head(10)"
   ]
  },
  {
   "cell_type": "markdown",
   "metadata": {},
   "source": [
    "## Machine Learning "
   ]
  },
  {
   "cell_type": "markdown",
   "metadata": {},
   "source": [
    "Load the cuML libraries "
   ]
  },
  {
   "cell_type": "code",
   "execution_count": 61,
   "metadata": {},
   "outputs": [
    {
     "name": "stdout",
     "output_type": "stream",
     "text": [
      "The cuml.accel extension is already loaded. To reload it, use:\n",
      "  %reload_ext cuml.accel\n"
     ]
    }
   ],
   "source": [
    "%load_ext cuml.accel\n",
    "import sklearn\n",
    "\n",
    "from sklearn.linear_model import LogisticRegression\n",
    "from sklearn.ensemble import RandomForestClassifier\n",
    "from sklearn.neighbors import KNeighborsClassifier\n",
    "from sklearn.model_selection import train_test_split\n",
    "from sklearn.preprocessing import StandardScaler\n",
    "from sklearn.metrics import roc_auc_score, f1_score\n",
    "from xgboost import XGBClassifier"
   ]
  },
  {
   "cell_type": "markdown",
   "metadata": {},
   "source": [
    "Identify dependent variables and independent variable"
   ]
  },
  {
   "cell_type": "code",
   "execution_count": 26,
   "metadata": {},
   "outputs": [
    {
     "data": {
      "text/plain": [
       "((1000000, 8), (1000000,), (1000000, 8))"
      ]
     },
     "execution_count": 26,
     "metadata": {},
     "output_type": "execute_result"
    }
   ],
   "source": [
    "X_train = train_df.drop(\"Survived\", axis=1)\n",
    "Y_train = train_df[\"Survived\"]\n",
    "X_test  = test_df.drop(\"PassengerId\", axis=1).copy()\n",
    "X_train.shape, Y_train.shape, X_test.shape"
   ]
  },
  {
   "cell_type": "markdown",
   "metadata": {},
   "source": [
    "Convert the datatype into 'float32' "
   ]
  },
  {
   "cell_type": "code",
   "execution_count": 27,
   "metadata": {
    "scrolled": true
   },
   "outputs": [],
   "source": [
    "X_train = X_train.astype('float32')\n",
    "Y_train = Y_train.astype('float32')\n",
    "X_test = X_test.astype('float32')"
   ]
  },
  {
   "cell_type": "markdown",
   "metadata": {},
   "source": [
    "Logistic Regression"
   ]
  },
  {
   "cell_type": "code",
   "execution_count": 28,
   "metadata": {},
   "outputs": [
    {
     "name": "stdout",
     "output_type": "stream",
     "text": [
      "CPU times: user 124 ms, sys: 106 ms, total: 230 ms\n",
      "Wall time: 228 ms\n"
     ]
    },
    {
     "data": {
      "text/plain": [
       "array(80.36)"
      ]
     },
     "execution_count": 28,
     "metadata": {},
     "output_type": "execute_result"
    }
   ],
   "source": [
    "%%time\n",
    "# Logistic Regression\n",
    "\n",
    "logreg = LogisticRegression(tol = 1e-3)\n",
    "logreg.fit(X_train, Y_train)\n",
    "acc_log = cp.round(logreg.score(X_train, Y_train) * 100, 2)\n",
    "acc_log"
   ]
  },
  {
   "cell_type": "markdown",
   "metadata": {},
   "source": [
    "K-Nearest Neighbors"
   ]
  },
  {
   "cell_type": "code",
   "execution_count": 29,
   "metadata": {},
   "outputs": [
    {
     "name": "stdout",
     "output_type": "stream",
     "text": [
      "CPU times: user 7.63 s, sys: 93.9 ms, total: 7.73 s\n",
      "Wall time: 7.58 s\n"
     ]
    },
    {
     "data": {
      "text/plain": [
       "array(84.96)"
      ]
     },
     "execution_count": 29,
     "metadata": {},
     "output_type": "execute_result"
    }
   ],
   "source": [
    "%%time\n",
    "# K-Nearest Neighbors\n",
    "\n",
    "knn = KNeighborsClassifier(n_neighbors = 3)\n",
    "knn.fit(X_train, Y_train)\n",
    "acc_knn = cp.round(knn.score(cp.asnumpy(X_train), cp.asnumpy(Y_train)) * 100, 2)\n",
    "acc_knn"
   ]
  },
  {
   "cell_type": "markdown",
   "metadata": {},
   "source": [
    "Random Forest"
   ]
  },
  {
   "cell_type": "code",
   "execution_count": 30,
   "metadata": {},
   "outputs": [
    {
     "name": "stdout",
     "output_type": "stream",
     "text": [
      "CPU times: user 4.42 s, sys: 1.57 s, total: 5.99 s\n",
      "Wall time: 2.46 s\n"
     ]
    },
    {
     "data": {
      "text/plain": [
       "array(83.95)"
      ]
     },
     "execution_count": 30,
     "metadata": {},
     "output_type": "execute_result"
    }
   ],
   "source": [
    "%%time\n",
    "# Random Forest\n",
    "\n",
    "random_forest = RandomForestClassifier()\n",
    "random_forest.fit(X_train, Y_train)\n",
    "acc_random_forest = cp.round(random_forest.score(cp.asnumpy(X_train), cp.asnumpy(Y_train)) * 100, 2)\n",
    "acc_random_forest"
   ]
  },
  {
   "cell_type": "markdown",
   "metadata": {},
   "source": [
    "XGBoost"
   ]
  },
  {
   "cell_type": "code",
   "execution_count": 32,
   "metadata": {},
   "outputs": [
    {
     "data": {
      "text/plain": [
       "array(86.76)"
      ]
     },
     "execution_count": 32,
     "metadata": {},
     "output_type": "execute_result"
    }
   ],
   "source": [
    "# xgboost = XGBClassifier()\n",
    "# xgboost.fit(X_train, Y_train)\n",
    "# acc_xgboost = cp.round(xgboost.score(cp.asnumpy(X_train), cp.asnumpy(Y_train)) * 100, 2)\n",
    "# acc_xgboost"
   ]
  },
  {
   "cell_type": "markdown",
   "metadata": {},
   "source": [
    "## Data Proprocessing "
   ]
  },
  {
   "cell_type": "code",
   "execution_count": 33,
   "metadata": {},
   "outputs": [
    {
     "name": "stdout",
     "output_type": "stream",
     "text": [
      "CPU times: user 362 ms, sys: 52 ms, total: 414 ms\n",
      "Wall time: 409 ms\n"
     ]
    }
   ],
   "source": [
    "%%time\n",
    "# Assuming X and y are your dataset and target variable\n",
    "X_train_df, X_valid_df, y_train_df, y_valid_df = train_test_split(X_train, Y_train, test_size=0.2, random_state=42)\n",
    "\n",
    "# Feature scaling\n",
    "scaler = StandardScaler()\n",
    "X_train_scaled = scaler.fit_transform(X_train_df)\n",
    "X_valid_scaled = scaler.transform(X_valid_df)\n",
    "\n",
    "X_train_scaled = pd.DataFrame(X_train_scaled)\n",
    "X_valid_scaled = pd.DataFrame(X_valid_scaled)"
   ]
  },
  {
   "cell_type": "markdown",
   "metadata": {},
   "source": [
    "## HPO"
   ]
  },
  {
   "cell_type": "code",
   "execution_count": 34,
   "metadata": {},
   "outputs": [],
   "source": [
    "import optuna"
   ]
  },
  {
   "cell_type": "markdown",
   "metadata": {},
   "source": [
    "### Logistic Regression"
   ]
  },
  {
   "cell_type": "code",
   "execution_count": 35,
   "metadata": {
    "scrolled": true
   },
   "outputs": [
    {
     "name": "stderr",
     "output_type": "stream",
     "text": [
      "[I 2025-03-27 08:05:22,462] A new study created in memory with name: optuna_logistic_roc_auc_score\n",
      "[I 2025-03-27 08:05:22,545] Trial 0 finished with value: 0.8572295445957658 and parameters: {'C': 40.573838784392514, 'penalty': 'l2'}. Best is trial 0 with value: 0.8572295445957658.\n",
      "[I 2025-03-27 08:05:22,625] Trial 1 finished with value: 0.8574189921476432 and parameters: {'C': 21.37399242249849, 'penalty': 'l1'}. Best is trial 1 with value: 0.8574189921476432.\n",
      "[I 2025-03-27 08:05:22,705] Trial 2 finished with value: 0.8574189921476432 and parameters: {'C': 12.183061292316713, 'penalty': 'l1'}. Best is trial 1 with value: 0.8574189921476432.\n",
      "[I 2025-03-27 08:05:22,788] Trial 3 finished with value: 0.8574189921476432 and parameters: {'C': 13.632436400440351, 'penalty': 'l1'}. Best is trial 1 with value: 0.8574189921476432.\n",
      "[I 2025-03-27 08:05:22,847] Trial 4 finished with value: 0.8573964283677715 and parameters: {'C': 0.028870434982716877, 'penalty': 'l2'}. Best is trial 1 with value: 0.8574189921476432.\n",
      "[I 2025-03-27 08:05:22,929] Trial 5 finished with value: 0.8574189921476432 and parameters: {'C': 32.44959970083975, 'penalty': 'l1'}. Best is trial 1 with value: 0.8574189921476432.\n",
      "[I 2025-03-27 08:05:23,011] Trial 6 finished with value: 0.8574189921476432 and parameters: {'C': 67.82426496348721, 'penalty': 'l1'}. Best is trial 1 with value: 0.8574189921476432.\n",
      "[I 2025-03-27 08:05:23,092] Trial 7 finished with value: 0.8574189921476432 and parameters: {'C': 31.806335520696464, 'penalty': 'l1'}. Best is trial 1 with value: 0.8574189921476432.\n",
      "[I 2025-03-27 08:05:23,148] Trial 8 finished with value: 0.8571983908673049 and parameters: {'C': 6.682974952480256, 'penalty': 'l2'}. Best is trial 1 with value: 0.8574189921476432.\n",
      "[I 2025-03-27 08:05:23,208] Trial 9 finished with value: 0.8572295445957658 and parameters: {'C': 65.52844955798805, 'penalty': 'l2'}. Best is trial 1 with value: 0.8574189921476432.\n",
      "[I 2025-03-27 08:05:23,266] Trial 10 finished with value: 0.8571983908673049 and parameters: {'C': 8.671643486036658, 'penalty': 'l2'}. Best is trial 1 with value: 0.8574189921476432.\n",
      "[I 2025-03-27 08:05:23,325] Trial 11 finished with value: 0.8573364260699042 and parameters: {'C': 2.060733366962903, 'penalty': 'l2'}. Best is trial 1 with value: 0.8574189921476432.\n",
      "[I 2025-03-27 08:05:23,409] Trial 12 finished with value: 0.8574189921476432 and parameters: {'C': 62.07908649203104, 'penalty': 'l1'}. Best is trial 1 with value: 0.8574189921476432.\n",
      "[I 2025-03-27 08:05:23,467] Trial 13 finished with value: 0.8573046110071307 and parameters: {'C': 0.16058693146283298, 'penalty': 'l2'}. Best is trial 1 with value: 0.8574189921476432.\n",
      "[I 2025-03-27 08:05:23,546] Trial 14 finished with value: 0.8574189921476432 and parameters: {'C': 47.85417225291647, 'penalty': 'l1'}. Best is trial 1 with value: 0.8574189921476432.\n",
      "[I 2025-03-27 08:05:23,604] Trial 15 finished with value: 0.8572297015279254 and parameters: {'C': 0.01026050139222121, 'penalty': 'l2'}. Best is trial 1 with value: 0.8574189921476432.\n",
      "[I 2025-03-27 08:05:23,660] Trial 16 finished with value: 0.8571983908673049 and parameters: {'C': 24.62172445059389, 'penalty': 'l2'}. Best is trial 1 with value: 0.8574189921476432.\n",
      "[I 2025-03-27 08:05:23,717] Trial 17 finished with value: 0.857383455520607 and parameters: {'C': 0.7011308780811453, 'penalty': 'l2'}. Best is trial 1 with value: 0.8574189921476432.\n",
      "[I 2025-03-27 08:05:23,788] Trial 18 finished with value: 0.8573204693981443 and parameters: {'C': 0.016563514153876663, 'penalty': 'l1'}. Best is trial 1 with value: 0.8574189921476432.\n",
      "[I 2025-03-27 08:05:23,847] Trial 19 finished with value: 0.8573426860250569 and parameters: {'C': 0.0907940664035744, 'penalty': 'l2'}. Best is trial 1 with value: 0.8574189921476432.\n",
      "[I 2025-03-27 08:05:23,905] Trial 20 finished with value: 0.8573364260699042 and parameters: {'C': 1.9565996610235368, 'penalty': 'l2'}. Best is trial 1 with value: 0.8574189921476432.\n",
      "[I 2025-03-27 08:05:23,961] Trial 21 finished with value: 0.8571983908673049 and parameters: {'C': 12.327011681574112, 'penalty': 'l2'}. Best is trial 1 with value: 0.8574189921476432.\n",
      "[I 2025-03-27 08:05:24,018] Trial 22 finished with value: 0.857383455520607 and parameters: {'C': 0.45332833061002575, 'penalty': 'l2'}. Best is trial 1 with value: 0.8574189921476432.\n",
      "[I 2025-03-27 08:05:24,083] Trial 23 finished with value: 0.8575293623769212 and parameters: {'C': 0.11299308217216476, 'penalty': 'l1'}. Best is trial 23 with value: 0.8575293623769212.\n",
      "[I 2025-03-27 08:05:24,155] Trial 24 finished with value: 0.8574766595908756 and parameters: {'C': 0.08953021946554465, 'penalty': 'l1'}. Best is trial 23 with value: 0.8575293623769212.\n",
      "[I 2025-03-27 08:05:24,228] Trial 25 finished with value: 0.8574151131228299 and parameters: {'C': 0.44986334166475306, 'penalty': 'l1'}. Best is trial 23 with value: 0.8575293623769212.\n",
      "[I 2025-03-27 08:05:24,284] Trial 26 finished with value: 0.8573046110071307 and parameters: {'C': 0.1641885332685076, 'penalty': 'l2'}. Best is trial 23 with value: 0.8575293623769212.\n",
      "[I 2025-03-27 08:05:24,358] Trial 27 finished with value: 0.8573756697832865 and parameters: {'C': 0.5728716641374204, 'penalty': 'l1'}. Best is trial 23 with value: 0.8575293623769212.\n",
      "[I 2025-03-27 08:05:24,433] Trial 28 finished with value: 0.857203600909323 and parameters: {'C': 0.01908924079586446, 'penalty': 'l1'}. Best is trial 23 with value: 0.8575293623769212.\n",
      "[I 2025-03-27 08:05:24,490] Trial 29 finished with value: 0.8572473036096003 and parameters: {'C': 0.02021555013643161, 'penalty': 'l2'}. Best is trial 23 with value: 0.8575293623769212.\n",
      "[I 2025-03-27 08:05:24,548] Trial 30 finished with value: 0.8572581438702468 and parameters: {'C': 0.03547472699445343, 'penalty': 'l2'}. Best is trial 23 with value: 0.8575293623769212.\n",
      "[I 2025-03-27 08:05:24,616] Trial 31 finished with value: 0.8571760244943519 and parameters: {'C': 0.021978330884769207, 'penalty': 'l1'}. Best is trial 23 with value: 0.8575293623769212.\n",
      "[I 2025-03-27 08:05:24,672] Trial 32 finished with value: 0.857383455520607 and parameters: {'C': 0.6383960341873212, 'penalty': 'l2'}. Best is trial 23 with value: 0.8575293623769212.\n",
      "[I 2025-03-27 08:05:24,729] Trial 33 finished with value: 0.8573364260699042 and parameters: {'C': 2.136230985199519, 'penalty': 'l2'}. Best is trial 23 with value: 0.8575293623769212.\n",
      "[I 2025-03-27 08:05:24,785] Trial 34 finished with value: 0.8572394289968951 and parameters: {'C': 0.013687016556795915, 'penalty': 'l2'}. Best is trial 23 with value: 0.8575293623769212.\n",
      "[I 2025-03-27 08:05:24,841] Trial 35 finished with value: 0.8573364260699042 and parameters: {'C': 1.477280218532871, 'penalty': 'l2'}. Best is trial 23 with value: 0.8575293623769212.\n",
      "[I 2025-03-27 08:05:24,924] Trial 36 finished with value: 0.8574189921476432 and parameters: {'C': 19.34030686986422, 'penalty': 'l1'}. Best is trial 23 with value: 0.8575293623769212.\n",
      "[I 2025-03-27 08:05:24,996] Trial 37 finished with value: 0.8574703147761107 and parameters: {'C': 0.33905219964966066, 'penalty': 'l1'}. Best is trial 23 with value: 0.8575293623769212.\n",
      "[I 2025-03-27 08:05:25,053] Trial 38 finished with value: 0.8573364260699042 and parameters: {'C': 1.4300402540653756, 'penalty': 'l2'}. Best is trial 23 with value: 0.8575293623769212.\n",
      "[I 2025-03-27 08:05:25,110] Trial 39 finished with value: 0.857383455520607 and parameters: {'C': 1.160190818773224, 'penalty': 'l2'}. Best is trial 23 with value: 0.8575293623769212.\n"
     ]
    },
    {
     "name": "stdout",
     "output_type": "stream",
     "text": [
      "Best params: {'C': 0.11299308217216476, 'penalty': 'l1'}\n",
      "Best ROC AUC score: 0.8575293623769212\n",
      "CPU times: user 2.48 s, sys: 207 ms, total: 2.69 s\n",
      "Wall time: 2.65 s\n"
     ]
    }
   ],
   "source": [
    "%%time \n",
    "\n",
    "def train_and_eval(C=1, penalty='l2'):\n",
    "    lr = LogisticRegression(C = C, penalty = penalty, max_iter = 20000, tol=1e-3)\n",
    "    lr.fit(X_train_scaled, y_train_df)\n",
    "    y_proba = lr.predict_proba(X_valid_scaled)[:, 1]\n",
    "    score = roc_auc_score(cp.asnumpy(y_valid_df), cp.asnumpy(y_proba))  # .get() to bring data back to CPU\n",
    "    return score\n",
    "\n",
    "def objective(trial):\n",
    "    C = trial.suggest_float(\"C\", 1e-2, 1e2, log = True)\n",
    "    penalty = trial.suggest_categorical(\"penalty\", [\"l1\", \"l2\"])\n",
    "    return train_and_eval(C, penalty)\n",
    "\n",
    "lr_study = optuna.create_study(\n",
    "    direction=\"maximize\",\n",
    "    study_name=\"optuna_logistic_roc_auc_score\",\n",
    "    sampler=optuna.samplers.RandomSampler(seed=142),\n",
    ")\n",
    "\n",
    "lr_study.optimize(objective, n_trials=40)\n",
    "\n",
    "print(f\"Best params: {lr_study.best_params}\")\n",
    "print(f\"Best ROC AUC score: {lr_study.best_value}\")\n"
   ]
  },
  {
   "cell_type": "markdown",
   "metadata": {},
   "source": [
    "### Random Forest"
   ]
  },
  {
   "cell_type": "code",
   "execution_count": 36,
   "metadata": {
    "scrolled": true
   },
   "outputs": [
    {
     "name": "stderr",
     "output_type": "stream",
     "text": [
      "[I 2025-03-27 08:05:31,824] A new study created in memory with name: optuna_random_forest_roc_auc_score\n",
      "[I 2025-03-27 08:05:45,298] Trial 0 finished with value: 0.9243861399376643 and parameters: {'n_estimators': 461, 'max_features': 'log2', 'max_depth': 14}. Best is trial 0 with value: 0.9243861399376643.\n",
      "[I 2025-03-27 08:05:50,395] Trial 1 finished with value: 0.9233262198151823 and parameters: {'n_estimators': 180, 'max_features': 'log2', 'max_depth': 9}. Best is trial 0 with value: 0.9243861399376643.\n",
      "[I 2025-03-27 08:05:56,734] Trial 2 finished with value: 0.9040715137843081 and parameters: {'n_estimators': 254, 'max_features': 'log2', 'max_depth': 6}. Best is trial 0 with value: 0.9243861399376643.\n",
      "[I 2025-03-27 08:06:00,943] Trial 3 finished with value: 0.9243773639954045 and parameters: {'n_estimators': 146, 'max_features': 'log2', 'max_depth': 14}. Best is trial 0 with value: 0.9243861399376643.\n",
      "[I 2025-03-27 08:06:11,040] Trial 4 finished with value: 0.9245323762986744 and parameters: {'n_estimators': 346, 'max_features': 'log2', 'max_depth': 14}. Best is trial 4 with value: 0.9245323762986744.\n",
      "[I 2025-03-27 08:06:20,237] Trial 5 finished with value: 0.8822892500963468 and parameters: {'n_estimators': 410, 'max_features': 'sqrt', 'max_depth': 5}. Best is trial 4 with value: 0.9245323762986744.\n",
      "[I 2025-03-27 08:06:31,535] Trial 6 finished with value: 0.9242766930190108 and parameters: {'n_estimators': 383, 'max_features': 'log2', 'max_depth': 15}. Best is trial 4 with value: 0.9245323762986744.\n",
      "[I 2025-03-27 08:06:39,882] Trial 7 finished with value: 0.9239274821880413 and parameters: {'n_estimators': 290, 'max_features': 'log2', 'max_depth': 10}. Best is trial 4 with value: 0.9245323762986744.\n",
      "[I 2025-03-27 08:06:50,576] Trial 8 finished with value: 0.9107423672107701 and parameters: {'n_estimators': 398, 'max_features': 'sqrt', 'max_depth': 13}. Best is trial 4 with value: 0.9245323762986744.\n",
      "[I 2025-03-27 08:07:03,002] Trial 9 finished with value: 0.9070096322317562 and parameters: {'n_estimators': 480, 'max_features': 'sqrt', 'max_depth': 8}. Best is trial 4 with value: 0.9245323762986744.\n",
      "[I 2025-03-27 08:07:09,022] Trial 10 finished with value: 0.911210595919916 and parameters: {'n_estimators': 223, 'max_features': 'sqrt', 'max_depth': 12}. Best is trial 4 with value: 0.9245323762986744.\n",
      "[I 2025-03-27 08:07:23,475] Trial 11 finished with value: 0.9244686465185641 and parameters: {'n_estimators': 498, 'max_features': 'log2', 'max_depth': 12}. Best is trial 4 with value: 0.9245323762986744.\n",
      "[I 2025-03-27 08:07:33,419] Trial 12 finished with value: 0.9244280722106899 and parameters: {'n_estimators': 342, 'max_features': 'log2', 'max_depth': 11}. Best is trial 4 with value: 0.9245323762986744.\n",
      "[I 2025-03-27 08:07:42,887] Trial 13 finished with value: 0.9245850150437176 and parameters: {'n_estimators': 324, 'max_features': 'log2', 'max_depth': 12}. Best is trial 13 with value: 0.9245850150437176.\n",
      "[I 2025-03-27 08:07:52,488] Trial 14 finished with value: 0.9245161998162128 and parameters: {'n_estimators': 325, 'max_features': 'log2', 'max_depth': 15}. Best is trial 13 with value: 0.9245850150437176.\n",
      "[I 2025-03-27 08:08:00,494] Trial 15 finished with value: 0.9245611608270783 and parameters: {'n_estimators': 274, 'max_features': 'log2', 'max_depth': 12}. Best is trial 13 with value: 0.9245850150437176.\n",
      "[I 2025-03-27 08:08:08,176] Trial 16 finished with value: 0.9244861533841612 and parameters: {'n_estimators': 265, 'max_features': 'log2', 'max_depth': 11}. Best is trial 13 with value: 0.9245850150437176.\n",
      "[I 2025-03-27 08:08:14,302] Trial 17 finished with value: 0.9203681054629764 and parameters: {'n_estimators': 223, 'max_features': 'log2', 'max_depth': 8}. Best is trial 13 with value: 0.9245850150437176.\n",
      "[I 2025-03-27 08:08:17,699] Trial 18 finished with value: 0.9110715653341446 and parameters: {'n_estimators': 125, 'max_features': 'sqrt', 'max_depth': 12}. Best is trial 13 with value: 0.9245850150437176.\n",
      "[I 2025-03-27 08:08:26,389] Trial 19 finished with value: 0.9239453915819856 and parameters: {'n_estimators': 302, 'max_features': 'log2', 'max_depth': 10}. Best is trial 13 with value: 0.9245850150437176.\n",
      "[I 2025-03-27 08:08:32,167] Trial 20 finished with value: 0.9244613811408082 and parameters: {'n_estimators': 197, 'max_features': 'log2', 'max_depth': 13}. Best is trial 13 with value: 0.9245850150437176.\n",
      "[I 2025-03-27 08:08:42,519] Trial 21 finished with value: 0.9244826379981095 and parameters: {'n_estimators': 354, 'max_features': 'log2', 'max_depth': 13}. Best is trial 13 with value: 0.9245850150437176.\n",
      "[I 2025-03-27 08:08:51,365] Trial 22 finished with value: 0.9247486309280675 and parameters: {'n_estimators': 302, 'max_features': 'log2', 'max_depth': 14}. Best is trial 22 with value: 0.9247486309280675.\n",
      "[I 2025-03-27 08:08:59,404] Trial 23 finished with value: 0.9244039582369812 and parameters: {'n_estimators': 277, 'max_features': 'log2', 'max_depth': 11}. Best is trial 22 with value: 0.9247486309280675.\n",
      "[I 2025-03-27 08:09:08,440] Trial 24 finished with value: 0.9247193930400914 and parameters: {'n_estimators': 309, 'max_features': 'log2', 'max_depth': 13}. Best is trial 22 with value: 0.9247486309280675.\n",
      "[I 2025-03-27 08:09:21,387] Trial 25 finished with value: 0.9244201327115564 and parameters: {'n_estimators': 432, 'max_features': 'log2', 'max_depth': 15}. Best is trial 22 with value: 0.9247486309280675.\n",
      "[I 2025-03-27 08:09:31,464] Trial 26 finished with value: 0.9110200656946553 and parameters: {'n_estimators': 374, 'max_features': 'sqrt', 'max_depth': 13}. Best is trial 22 with value: 0.9247486309280675.\n",
      "[I 2025-03-27 08:09:40,285] Trial 27 finished with value: 0.9246711489239061 and parameters: {'n_estimators': 299, 'max_features': 'log2', 'max_depth': 14}. Best is trial 22 with value: 0.9247486309280675.\n",
      "[I 2025-03-27 08:09:47,288] Trial 28 finished with value: 0.9244726607058231 and parameters: {'n_estimators': 236, 'max_features': 'log2', 'max_depth': 14}. Best is trial 22 with value: 0.9247486309280675.\n",
      "[I 2025-03-27 08:09:56,436] Trial 29 finished with value: 0.9247193930400914 and parameters: {'n_estimators': 309, 'max_features': 'log2', 'max_depth': 15}. Best is trial 22 with value: 0.9247486309280675.\n",
      "[I 2025-03-27 08:10:05,801] Trial 30 finished with value: 0.9246809359953931 and parameters: {'n_estimators': 316, 'max_features': 'log2', 'max_depth': 15}. Best is trial 22 with value: 0.9247486309280675.\n",
      "[I 2025-03-27 08:10:15,269] Trial 31 finished with value: 0.9246117727695037 and parameters: {'n_estimators': 318, 'max_features': 'log2', 'max_depth': 15}. Best is trial 22 with value: 0.9247486309280675.\n",
      "[I 2025-03-27 08:10:22,454] Trial 32 finished with value: 0.9244442211111354 and parameters: {'n_estimators': 244, 'max_features': 'log2', 'max_depth': 14}. Best is trial 22 with value: 0.9247486309280675.\n",
      "[I 2025-03-27 08:10:33,268] Trial 33 finished with value: 0.9244766697148492 and parameters: {'n_estimators': 365, 'max_features': 'log2', 'max_depth': 15}. Best is trial 22 with value: 0.9247486309280675.\n",
      "[I 2025-03-27 08:10:42,299] Trial 34 finished with value: 0.9247229296674657 and parameters: {'n_estimators': 308, 'max_features': 'log2', 'max_depth': 14}. Best is trial 22 with value: 0.9247486309280675.\n",
      "[I 2025-03-27 08:10:48,130] Trial 35 finished with value: 0.9244613811408082 and parameters: {'n_estimators': 197, 'max_features': 'log2', 'max_depth': 14}. Best is trial 22 with value: 0.9247486309280675.\n",
      "[I 2025-03-27 08:11:00,480] Trial 36 finished with value: 0.9244332979987631 and parameters: {'n_estimators': 421, 'max_features': 'log2', 'max_depth': 13}. Best is trial 22 with value: 0.9247486309280675.\n",
      "[I 2025-03-27 08:11:10,597] Trial 37 finished with value: 0.9245538315139982 and parameters: {'n_estimators': 343, 'max_features': 'log2', 'max_depth': 14}. Best is trial 22 with value: 0.9247486309280675.\n",
      "[I 2025-03-27 08:11:18,125] Trial 38 finished with value: 0.9245313361079361 and parameters: {'n_estimators': 257, 'max_features': 'log2', 'max_depth': 14}. Best is trial 22 with value: 0.9247486309280675.\n",
      "[I 2025-03-27 08:11:25,719] Trial 39 finished with value: 0.9097845380629495 and parameters: {'n_estimators': 287, 'max_features': 'sqrt', 'max_depth': 9}. Best is trial 22 with value: 0.9247486309280675.\n"
     ]
    },
    {
     "name": "stdout",
     "output_type": "stream",
     "text": [
      "Best params: {'n_estimators': 302, 'max_features': 'log2', 'max_depth': 14}\n",
      "Best ROC AUC score: 0.9247486309280675\n",
      "CPU times: user 3min 44s, sys: 2min 33s, total: 6min 18s\n",
      "Wall time: 5min 53s\n"
     ]
    }
   ],
   "source": [
    "%%time \n",
    "\n",
    "def train_and_eval(n_estimators=50, max_features='sqrt', max_depth='None'):\n",
    "    rf = RandomForestClassifier(n_estimators = n_estimators, max_features = max_features, max_depth = max_depth, random_state = 42)\n",
    "    rf.fit(X_train_scaled, y_train_df)\n",
    "    y_proba = rf.predict_proba(X_valid_scaled)[:, 1]\n",
    "    score = roc_auc_score(cp.asnumpy(y_valid_df), cp.asnumpy(y_proba))  # .get() to bring data back to CPU\n",
    "    return score\n",
    "\n",
    "def objective(trial):\n",
    "    n_estimators = trial.suggest_int(\"n_estimators\", 100, 500)\n",
    "    max_features = trial.suggest_categorical(\"max_features\", [\"sqrt\", \"log2\"])\n",
    "    max_depth = trial.suggest_int(\"max_depth\", 5, 15)\n",
    "    return train_and_eval(n_estimators, max_features, max_depth)\n",
    "\n",
    "rf_study = optuna.create_study(\n",
    "    direction=\"maximize\",\n",
    "    study_name=\"optuna_random_forest_roc_auc_score\",\n",
    "    sampler=optuna.samplers.TPESampler(seed=142),\n",
    ")\n",
    "\n",
    "rf_study.optimize(objective, n_trials=40)\n",
    "\n",
    "print(f\"Best params: {rf_study.best_params}\")\n",
    "print(f\"Best ROC AUC score: {rf_study.best_value}\")\n"
   ]
  },
  {
   "cell_type": "markdown",
   "metadata": {},
   "source": [
    "### K-Nearest Neighbors (KNN)"
   ]
  },
  {
   "cell_type": "code",
   "execution_count": 41,
   "metadata": {
    "scrolled": true
   },
   "outputs": [
    {
     "name": "stderr",
     "output_type": "stream",
     "text": [
      "[I 2025-03-27 08:25:05,194] A new study created in memory with name: optuna_knn_acc_score\n",
      "[I 2025-03-27 08:25:06,470] Trial 0 finished with value: 0.9287350171002158 and parameters: {'n_neighbors': 19, 'algorithm': 'kd_tree', 'p': 1}. Best is trial 0 with value: 0.9287350171002158.\n",
      "[I 2025-03-27 08:25:07,739] Trial 1 finished with value: 0.9266011567369085 and parameters: {'n_neighbors': 16, 'algorithm': 'brute', 'p': 1}. Best is trial 0 with value: 0.9287350171002158.\n",
      "[I 2025-03-27 08:25:08,989] Trial 2 finished with value: 0.8873093744001439 and parameters: {'n_neighbors': 3, 'algorithm': 'kd_tree', 'p': 1}. Best is trial 0 with value: 0.9287350171002158.\n",
      "[I 2025-03-27 08:25:10,256] Trial 3 finished with value: 0.9288484115231703 and parameters: {'n_neighbors': 20, 'algorithm': 'kd_tree', 'p': 1}. Best is trial 3 with value: 0.9288484115231703.\n",
      "[I 2025-03-27 08:25:11,522] Trial 4 finished with value: 0.9262523053175717 and parameters: {'n_neighbors': 15, 'algorithm': 'kd_tree', 'p': 2}. Best is trial 3 with value: 0.9288484115231703.\n",
      "[I 2025-03-27 08:25:12,786] Trial 5 finished with value: 0.9262523053175717 and parameters: {'n_neighbors': 15, 'algorithm': 'ball_tree', 'p': 2}. Best is trial 3 with value: 0.9288484115231703.\n",
      "[I 2025-03-27 08:25:14,058] Trial 6 finished with value: 0.9287350171002158 and parameters: {'n_neighbors': 19, 'algorithm': 'auto', 'p': 2}. Best is trial 3 with value: 0.9288484115231703.\n",
      "[I 2025-03-27 08:25:15,326] Trial 7 finished with value: 0.9287350171002158 and parameters: {'n_neighbors': 19, 'algorithm': 'auto', 'p': 1}. Best is trial 3 with value: 0.9288484115231703.\n",
      "[I 2025-03-27 08:25:16,592] Trial 8 finished with value: 0.9269465922662394 and parameters: {'n_neighbors': 17, 'algorithm': 'ball_tree', 'p': 1}. Best is trial 3 with value: 0.9288484115231703.\n",
      "[I 2025-03-27 08:25:17,847] Trial 9 finished with value: 0.8821922141865912 and parameters: {'n_neighbors': 2, 'algorithm': 'auto', 'p': 2}. Best is trial 3 with value: 0.9288484115231703.\n",
      "[I 2025-03-27 08:25:19,110] Trial 10 finished with value: 0.9155954082749176 and parameters: {'n_neighbors': 9, 'algorithm': 'brute', 'p': 1}. Best is trial 3 with value: 0.9288484115231703.\n",
      "[I 2025-03-27 08:25:20,375] Trial 11 finished with value: 0.9172108821916514 and parameters: {'n_neighbors': 11, 'algorithm': 'kd_tree', 'p': 1}. Best is trial 3 with value: 0.9288484115231703.\n",
      "[I 2025-03-27 08:25:21,656] Trial 12 finished with value: 0.9288484115231703 and parameters: {'n_neighbors': 20, 'algorithm': 'kd_tree', 'p': 1}. Best is trial 3 with value: 0.9288484115231703.\n",
      "[I 2025-03-27 08:25:22,926] Trial 13 finished with value: 0.9175924923802832 and parameters: {'n_neighbors': 12, 'algorithm': 'kd_tree', 'p': 1}. Best is trial 3 with value: 0.9288484115231703.\n",
      "[I 2025-03-27 08:25:24,190] Trial 14 finished with value: 0.9090663387217813 and parameters: {'n_neighbors': 6, 'algorithm': 'kd_tree', 'p': 1}. Best is trial 3 with value: 0.9288484115231703.\n",
      "[I 2025-03-27 08:25:25,473] Trial 15 finished with value: 0.9288484115231703 and parameters: {'n_neighbors': 20, 'algorithm': 'kd_tree', 'p': 1}. Best is trial 3 with value: 0.9288484115231703.\n",
      "[I 2025-03-27 08:25:26,749] Trial 16 finished with value: 0.9175924923802832 and parameters: {'n_neighbors': 12, 'algorithm': 'kd_tree', 'p': 1}. Best is trial 3 with value: 0.9288484115231703.\n",
      "[I 2025-03-27 08:25:28,030] Trial 17 finished with value: 0.9232819557521903 and parameters: {'n_neighbors': 14, 'algorithm': 'ball_tree', 'p': 2}. Best is trial 3 with value: 0.9288484115231703.\n",
      "[I 2025-03-27 08:25:29,301] Trial 18 finished with value: 0.9148236227834469 and parameters: {'n_neighbors': 8, 'algorithm': 'brute', 'p': 1}. Best is trial 3 with value: 0.9288484115231703.\n",
      "[I 2025-03-27 08:25:30,577] Trial 19 finished with value: 0.9269465922662394 and parameters: {'n_neighbors': 17, 'algorithm': 'kd_tree', 'p': 1}. Best is trial 3 with value: 0.9288484115231703.\n",
      "[I 2025-03-27 08:25:31,859] Trial 20 finished with value: 0.9288484115231703 and parameters: {'n_neighbors': 20, 'algorithm': 'kd_tree', 'p': 2}. Best is trial 3 with value: 0.9288484115231703.\n",
      "[I 2025-03-27 08:25:33,141] Trial 21 finished with value: 0.9288484115231703 and parameters: {'n_neighbors': 20, 'algorithm': 'kd_tree', 'p': 1}. Best is trial 3 with value: 0.9288484115231703.\n",
      "[I 2025-03-27 08:25:34,420] Trial 22 finished with value: 0.927734117207885 and parameters: {'n_neighbors': 18, 'algorithm': 'kd_tree', 'p': 1}. Best is trial 3 with value: 0.9288484115231703.\n",
      "[I 2025-03-27 08:25:35,707] Trial 23 finished with value: 0.9288484115231703 and parameters: {'n_neighbors': 20, 'algorithm': 'kd_tree', 'p': 1}. Best is trial 3 with value: 0.9288484115231703.\n",
      "[I 2025-03-27 08:25:36,983] Trial 24 finished with value: 0.9232819557521903 and parameters: {'n_neighbors': 14, 'algorithm': 'kd_tree', 'p': 1}. Best is trial 3 with value: 0.9288484115231703.\n",
      "[I 2025-03-27 08:25:38,268] Trial 25 finished with value: 0.9269465922662394 and parameters: {'n_neighbors': 17, 'algorithm': 'kd_tree', 'p': 1}. Best is trial 3 with value: 0.9288484115231703.\n",
      "[I 2025-03-27 08:25:39,539] Trial 26 finished with value: 0.9063861629015417 and parameters: {'n_neighbors': 5, 'algorithm': 'brute', 'p': 1}. Best is trial 3 with value: 0.9288484115231703.\n",
      "[I 2025-03-27 08:25:40,821] Trial 27 finished with value: 0.927734117207885 and parameters: {'n_neighbors': 18, 'algorithm': 'ball_tree', 'p': 1}. Best is trial 3 with value: 0.9288484115231703.\n",
      "[I 2025-03-27 08:25:42,101] Trial 28 finished with value: 0.91775641452012 and parameters: {'n_neighbors': 13, 'algorithm': 'auto', 'p': 1}. Best is trial 3 with value: 0.9288484115231703.\n",
      "[I 2025-03-27 08:25:43,387] Trial 29 finished with value: 0.927734117207885 and parameters: {'n_neighbors': 18, 'algorithm': 'kd_tree', 'p': 1}. Best is trial 3 with value: 0.9288484115231703.\n",
      "[I 2025-03-27 08:25:44,668] Trial 30 finished with value: 0.9288484115231703 and parameters: {'n_neighbors': 20, 'algorithm': 'kd_tree', 'p': 1}. Best is trial 3 with value: 0.9288484115231703.\n",
      "[I 2025-03-27 08:25:45,950] Trial 31 finished with value: 0.9288484115231703 and parameters: {'n_neighbors': 20, 'algorithm': 'kd_tree', 'p': 2}. Best is trial 3 with value: 0.9288484115231703.\n",
      "[I 2025-03-27 08:25:47,228] Trial 32 finished with value: 0.9266011567369085 and parameters: {'n_neighbors': 16, 'algorithm': 'kd_tree', 'p': 2}. Best is trial 3 with value: 0.9288484115231703.\n",
      "[I 2025-03-27 08:25:48,508] Trial 33 finished with value: 0.9287350171002158 and parameters: {'n_neighbors': 19, 'algorithm': 'kd_tree', 'p': 2}. Best is trial 3 with value: 0.9288484115231703.\n",
      "[I 2025-03-27 08:25:49,788] Trial 34 finished with value: 0.9266011567369085 and parameters: {'n_neighbors': 16, 'algorithm': 'kd_tree', 'p': 2}. Best is trial 3 with value: 0.9288484115231703.\n",
      "[I 2025-03-27 08:25:51,075] Trial 35 finished with value: 0.927734117207885 and parameters: {'n_neighbors': 18, 'algorithm': 'kd_tree', 'p': 2}. Best is trial 3 with value: 0.9288484115231703.\n",
      "[I 2025-03-27 08:25:52,359] Trial 36 finished with value: 0.9287350171002158 and parameters: {'n_neighbors': 19, 'algorithm': 'brute', 'p': 2}. Best is trial 3 with value: 0.9288484115231703.\n",
      "[I 2025-03-27 08:25:53,643] Trial 37 finished with value: 0.9288484115231703 and parameters: {'n_neighbors': 20, 'algorithm': 'kd_tree', 'p': 1}. Best is trial 3 with value: 0.9288484115231703.\n",
      "[I 2025-03-27 08:25:54,923] Trial 38 finished with value: 0.9262523053175717 and parameters: {'n_neighbors': 15, 'algorithm': 'ball_tree', 'p': 2}. Best is trial 3 with value: 0.9288484115231703.\n",
      "[I 2025-03-27 08:25:56,208] Trial 39 finished with value: 0.9266011567369085 and parameters: {'n_neighbors': 16, 'algorithm': 'auto', 'p': 1}. Best is trial 3 with value: 0.9288484115231703.\n"
     ]
    },
    {
     "name": "stdout",
     "output_type": "stream",
     "text": [
      "Best params: {'n_neighbors': 20, 'algorithm': 'kd_tree', 'p': 1}\n",
      "Best ROC AUC score: 0.9288484115231703\n",
      "CPU times: user 51.6 s, sys: 0 ns, total: 51.6 s\n",
      "Wall time: 51 s\n"
     ]
    }
   ],
   "source": [
    "%%time \n",
    "\n",
    "def train_and_eval(n_neighbors=7, algorithm='auto', p=1):\n",
    "    knn = KNeighborsClassifier(n_neighbors = n_neighbors, algorithm = algorithm, p = p)\n",
    "    knn.fit(X_train_scaled, y_train_df)\n",
    "    y_proba = knn.predict_proba(X_valid_scaled)[:, 1]\n",
    "    score = roc_auc_score(cp.asnumpy(y_valid_df), cp.asnumpy(y_proba))  # .get() to bring data back to CPU\n",
    "    return score\n",
    "\n",
    "def objective(trial):\n",
    "    n_neighbors = trial.suggest_int(\"n_neighbors\", 1, 20)\n",
    "    algorithm = trial.suggest_categorical(\"algorithm\", [\"auto\", \"ball_tree\", \"kd_tree\", \"brute\"])\n",
    "    p = trial.suggest_int(\"p\", 1, 2)\n",
    "    return train_and_eval(n_neighbors, algorithm, p)\n",
    "\n",
    "knn_study = optuna.create_study(\n",
    "    direction=\"maximize\",\n",
    "    study_name=\"optuna_knn_acc_score\",\n",
    "    sampler=optuna.samplers.TPESampler(seed=142),\n",
    ")\n",
    "\n",
    "knn_study.optimize(objective, n_trials=40)\n",
    "\n",
    "print(f\"Best params: {knn_study.best_params}\")\n",
    "print(f\"Best ROC AUC score: {knn_study.best_value}\")"
   ]
  },
  {
   "cell_type": "markdown",
   "metadata": {},
   "source": [
    "### XGBoost"
   ]
  },
  {
   "cell_type": "code",
   "execution_count": null,
   "metadata": {},
   "outputs": [],
   "source": [
    "# %%time \n",
    "\n",
    "# def train_and_eval(n_estimators=500, max_depth=7, learning_rate=0.1):\n",
    "#     xgboost = XGBClassifier(n_estimators = n_estimators, max_depth = max_depth, learning_rate = learning_rate)\n",
    "#     xgboost.fit(X_train_scaled, y_train_df)\n",
    "#     y_proba = xgboost.predict_proba(X_valid_scaled)[:, 1]\n",
    "#     score = roc_auc_score(cp.asnumpy(y_valid_df), cp.asnumpy(y_proba))  # .get() to bring data back to CPU\n",
    "#     return score\n",
    "\n",
    "# def objective(trial):\n",
    "#     n_estimators = trial.suggest_int(\"n_estimators\", 100, 1000)\n",
    "#     max_depth = trial.suggest_int(\"max_depth\", 3, 10)\n",
    "#     learning_rate = trial.suggest_float(\"learning_rate\", 0.01, 0.3, log = True)\n",
    "#     return train_and_eval(n_estimators, max_depth, learning_rate)\n",
    "\n",
    "# study = optuna.create_study(\n",
    "#     direction=\"maximize\",\n",
    "#     study_name=\"optuna_xg_roc_auc_score\",\n",
    "#     sampler=optuna.samplers.TPESampler(seed=142),\n",
    "# )\n",
    "\n",
    "# study.optimize(objective, n_trials=40)\n",
    "\n",
    "# print(f\"Best params: {study.best_params}\")\n",
    "# print(f\"Best ROC AUC score: {study.best_value}\")"
   ]
  },
  {
   "cell_type": "markdown",
   "metadata": {},
   "source": [
    "## Ensemble Method - Stacking Generalization"
   ]
  },
  {
   "cell_type": "code",
   "execution_count": 65,
   "metadata": {},
   "outputs": [],
   "source": [
    "# from cuml.model_selection import train_test_split, StratifiedKFold\n",
    "\n",
    "# Step 2: Define base models (level-0 models)\n",
    "base_models = [\n",
    "    (\"logistic_regression\", LogisticRegression(**lr_study.best_params, max_iter = 20000, tol=1e-3)), #80.45\n",
    "    (\"random_forest\", RandomForestClassifier(**rf_study.best_params, random_state = 42)), #85.95\n",
    "    (\"k_nearest_neighbors\", KNeighborsClassifier(**knn_study.best_params)) #86.55\n",
    "]"
   ]
  },
  {
   "cell_type": "code",
   "execution_count": 43,
   "metadata": {
    "scrolled": true
   },
   "outputs": [
    {
     "name": "stdout",
     "output_type": "stream",
     "text": [
      "Model name:  logistic_regression\n",
      "Model name:  random_forest\n",
      "Model name:  k_nearest_neighbors\n",
      "Model name:  logistic_regression\n",
      "Model name:  random_forest\n",
      "Model name:  k_nearest_neighbors\n",
      "CPU times: user 1min 23s, sys: 36.5 s, total: 2min\n",
      "Wall time: 1min 45s\n"
     ]
    }
   ],
   "source": [
    "%%time\n",
    "# Step 3: Generate out-of-fold predictions for stacking\n",
    "def generate_meta_features(base_models, X, y, X_meta):\n",
    "    kfold = StratifiedKFold(n_splits=5, shuffle=True, random_state=42)\n",
    "    meta_features = cp.zeros((X_meta.shape[0], len(base_models)))\n",
    "    \n",
    "    for i, (name, model) in enumerate(base_models):\n",
    "        meta_predictions = cp.zeros((X.shape[0],))\n",
    "        print(\"Model name: \", name)\n",
    "\n",
    "        for train_idx, val_idx in kfold.split(X, y):\n",
    "            model.fit(cp.array(X.iloc[train_idx]), cp.array(y.iloc[train_idx]))\n",
    "            predictions = model.predict(cp.array(X.iloc[val_idx]))\n",
    "            \n",
    "            # Ensure predictions are 1D\n",
    "            meta_predictions[val_idx] = predictions.ravel()\n",
    "        \n",
    "        # Train the model on the full dataset to predict meta features for test data\n",
    "        model.fit(cp.array(X), cp.array(y))\n",
    "\n",
    "        # Predict meta features for test data\n",
    "        predictions = model.predict(cp.array(X_meta))\n",
    "        meta_features[:, i] = cp.array(predictions).ravel()\n",
    "    \n",
    "    return meta_features\n",
    "\n",
    "# Generate meta features for training and testing\n",
    "meta_train = generate_meta_features(base_models, X_train_scaled, y_train_df, X_train_scaled)\n",
    "meta_valid = generate_meta_features(base_models, X_train_scaled, y_train_df, X_valid_scaled)"
   ]
  },
  {
   "cell_type": "code",
   "execution_count": 54,
   "metadata": {},
   "outputs": [
    {
     "name": "stdout",
     "output_type": "stream",
     "text": [
      "Stacking Model accuracy score: 85.95\n",
      "CPU times: user 2.47 s, sys: 25.6 ms, total: 2.5 s\n",
      "Wall time: 2.47 s\n"
     ]
    }
   ],
   "source": [
    "%%time\n",
    "\n",
    "# Step 4: Define the meta-model (level-1 model)\n",
    "meta_model = KNeighborsClassifier(**study.best_params)\n",
    "\n",
    "# Train the meta-model\n",
    "meta_model.fit(meta_train, y_train_df)\n",
    "\n",
    "# Step 5: Make predictions with the meta-model\n",
    "Y_pred = meta_model.predict(meta_valid)\n",
    "\n",
    "# Evaluate the performance\n",
    "acc_meta = cp.round(meta_model.score(cp.asnumpy(meta_valid), cp.asnumpy(y_valid_df)) * 100, 2)\n",
    "print(f\"Stacking Model accuracy score: {acc_meta}\")"
   ]
  },
  {
   "cell_type": "code",
   "execution_count": 44,
   "metadata": {},
   "outputs": [
    {
     "name": "stdout",
     "output_type": "stream",
     "text": [
      "Stacking Model accuracy score: 86.67\n",
      "CPU times: user 3.62 s, sys: 8.8 ms, total: 3.63 s\n",
      "Wall time: 142 ms\n"
     ]
    }
   ],
   "source": [
    "# %%time\n",
    "\n",
    "# # Step 4: Define the meta-model (level-1 model)\n",
    "# meta_model = XGBClassifier()\n",
    "\n",
    "# # Train the meta-model\n",
    "# meta_model.fit(meta_train, y_train_df)\n",
    "\n",
    "# # Step 5: Make predictions with the meta-model\n",
    "# Y_pred = meta_model.predict(meta_valid)\n",
    "\n",
    "# # Evaluate the performance\n",
    "# acc_meta = cp.round(meta_model.score(cp.asnumpy(meta_valid), cp.asnumpy(y_valid_df)) * 100, 2)\n",
    "# print(f\"Stacking Model accuracy score: {acc_meta}\")"
   ]
  },
  {
   "cell_type": "code",
   "execution_count": 58,
   "metadata": {
    "scrolled": true
   },
   "outputs": [
    {
     "name": "stderr",
     "output_type": "stream",
     "text": [
      "[I 2025-03-26 17:13:20,282] A new study created in memory with name: optuna_knn_roc_auc_score\n",
      "[I 2025-03-26 17:13:21,516] Trial 0 finished with value: 0.8638369653564386 and parameters: {'n_neighbors': 19, 'algorithm': 'kd_tree', 'p': 1}. Best is trial 0 with value: 0.8638369653564386.\n",
      "[I 2025-03-26 17:13:22,751] Trial 1 finished with value: 0.860920320723681 and parameters: {'n_neighbors': 16, 'algorithm': 'brute', 'p': 1}. Best is trial 0 with value: 0.8638369653564386.\n",
      "[I 2025-03-26 17:13:23,978] Trial 2 finished with value: 0.8477710128040156 and parameters: {'n_neighbors': 3, 'algorithm': 'kd_tree', 'p': 1}. Best is trial 0 with value: 0.8638369653564386.\n",
      "[I 2025-03-26 17:13:25,214] Trial 3 finished with value: 0.8638369653564386 and parameters: {'n_neighbors': 20, 'algorithm': 'kd_tree', 'p': 1}. Best is trial 0 with value: 0.8638369653564386.\n",
      "[I 2025-03-26 17:13:26,447] Trial 4 finished with value: 0.860920320723681 and parameters: {'n_neighbors': 15, 'algorithm': 'kd_tree', 'p': 2}. Best is trial 0 with value: 0.8638369653564386.\n",
      "[I 2025-03-26 17:13:27,675] Trial 5 finished with value: 0.860920320723681 and parameters: {'n_neighbors': 15, 'algorithm': 'ball_tree', 'p': 2}. Best is trial 0 with value: 0.8638369653564386.\n",
      "[I 2025-03-26 17:13:28,914] Trial 6 finished with value: 0.8638369653564386 and parameters: {'n_neighbors': 19, 'algorithm': 'auto', 'p': 2}. Best is trial 0 with value: 0.8638369653564386.\n",
      "[I 2025-03-26 17:13:30,153] Trial 7 finished with value: 0.8638369653564386 and parameters: {'n_neighbors': 19, 'algorithm': 'auto', 'p': 1}. Best is trial 0 with value: 0.8638369653564386.\n",
      "[I 2025-03-26 17:13:31,396] Trial 8 finished with value: 0.860920320723681 and parameters: {'n_neighbors': 17, 'algorithm': 'ball_tree', 'p': 1}. Best is trial 0 with value: 0.8638369653564386.\n",
      "[I 2025-03-26 17:13:32,626] Trial 9 finished with value: 0.8474079288002702 and parameters: {'n_neighbors': 2, 'algorithm': 'auto', 'p': 2}. Best is trial 0 with value: 0.8638369653564386.\n",
      "[I 2025-03-26 17:13:33,864] Trial 10 finished with value: 0.8608126891455234 and parameters: {'n_neighbors': 9, 'algorithm': 'brute', 'p': 1}. Best is trial 0 with value: 0.8638369653564386.\n",
      "[I 2025-03-26 17:13:35,100] Trial 11 finished with value: 0.8571674867508042 and parameters: {'n_neighbors': 11, 'algorithm': 'kd_tree', 'p': 1}. Best is trial 0 with value: 0.8638369653564386.\n",
      "[I 2025-03-26 17:13:36,344] Trial 12 finished with value: 0.8638369653564386 and parameters: {'n_neighbors': 20, 'algorithm': 'kd_tree', 'p': 1}. Best is trial 0 with value: 0.8638369653564386.\n",
      "[I 2025-03-26 17:13:37,585] Trial 13 finished with value: 0.8571674867508042 and parameters: {'n_neighbors': 12, 'algorithm': 'kd_tree', 'p': 1}. Best is trial 0 with value: 0.8638369653564386.\n",
      "[I 2025-03-26 17:13:38,820] Trial 14 finished with value: 0.8571136709617254 and parameters: {'n_neighbors': 6, 'algorithm': 'kd_tree', 'p': 1}. Best is trial 0 with value: 0.8638369653564386.\n",
      "[I 2025-03-26 17:13:40,061] Trial 15 finished with value: 0.8608665049346023 and parameters: {'n_neighbors': 13, 'algorithm': 'kd_tree', 'p': 1}. Best is trial 0 with value: 0.8638369653564386.\n",
      "[I 2025-03-26 17:13:41,300] Trial 16 finished with value: 0.8608665049346023 and parameters: {'n_neighbors': 8, 'algorithm': 'kd_tree', 'p': 1}. Best is trial 0 with value: 0.8638369653564386.\n",
      "[I 2025-03-26 17:13:42,539] Trial 17 finished with value: 0.860920320723681 and parameters: {'n_neighbors': 18, 'algorithm': 'ball_tree', 'p': 2}. Best is trial 0 with value: 0.8638369653564386.\n",
      "[I 2025-03-26 17:13:43,781] Trial 18 finished with value: 0.8608665049346023 and parameters: {'n_neighbors': 14, 'algorithm': 'brute', 'p': 1}. Best is trial 0 with value: 0.8638369653564386.\n",
      "[I 2025-03-26 17:13:45,023] Trial 19 finished with value: 0.860920320723681 and parameters: {'n_neighbors': 17, 'algorithm': 'kd_tree', 'p': 1}. Best is trial 0 with value: 0.8638369653564386.\n",
      "[I 2025-03-26 17:13:46,264] Trial 20 finished with value: 0.8638369653564386 and parameters: {'n_neighbors': 20, 'algorithm': 'kd_tree', 'p': 2}. Best is trial 0 with value: 0.8638369653564386.\n",
      "[I 2025-03-26 17:13:47,509] Trial 21 finished with value: 0.8638369653564386 and parameters: {'n_neighbors': 20, 'algorithm': 'auto', 'p': 2}. Best is trial 0 with value: 0.8638369653564386.\n",
      "[I 2025-03-26 17:13:48,756] Trial 22 finished with value: 0.860920320723681 and parameters: {'n_neighbors': 18, 'algorithm': 'auto', 'p': 2}. Best is trial 0 with value: 0.8638369653564386.\n",
      "[I 2025-03-26 17:13:49,999] Trial 23 finished with value: 0.860920320723681 and parameters: {'n_neighbors': 18, 'algorithm': 'auto', 'p': 2}. Best is trial 0 with value: 0.8638369653564386.\n",
      "[I 2025-03-26 17:13:51,241] Trial 24 finished with value: 0.860920320723681 and parameters: {'n_neighbors': 16, 'algorithm': 'auto', 'p': 2}. Best is trial 0 with value: 0.8638369653564386.\n",
      "[I 2025-03-26 17:13:52,486] Trial 25 finished with value: 0.8638369653564386 and parameters: {'n_neighbors': 20, 'algorithm': 'auto', 'p': 1}. Best is trial 0 with value: 0.8638369653564386.\n",
      "[I 2025-03-26 17:13:53,727] Trial 26 finished with value: 0.860920320723681 and parameters: {'n_neighbors': 18, 'algorithm': 'brute', 'p': 2}. Best is trial 0 with value: 0.8638369653564386.\n",
      "[I 2025-03-26 17:13:54,973] Trial 27 finished with value: 0.8608665049346023 and parameters: {'n_neighbors': 14, 'algorithm': 'ball_tree', 'p': 1}. Best is trial 0 with value: 0.8638369653564386.\n",
      "[I 2025-03-26 17:13:56,210] Trial 28 finished with value: 0.8571136709617254 and parameters: {'n_neighbors': 6, 'algorithm': 'kd_tree', 'p': 2}. Best is trial 0 with value: 0.8638369653564386.\n",
      "[I 2025-03-26 17:13:57,456] Trial 29 finished with value: 0.860920320723681 and parameters: {'n_neighbors': 16, 'algorithm': 'brute', 'p': 1}. Best is trial 0 with value: 0.8638369653564386.\n",
      "[I 2025-03-26 17:13:58,699] Trial 30 finished with value: 0.860920320723681 and parameters: {'n_neighbors': 16, 'algorithm': 'auto', 'p': 1}. Best is trial 0 with value: 0.8638369653564386.\n",
      "[I 2025-03-26 17:13:59,945] Trial 31 finished with value: 0.8638369653564386 and parameters: {'n_neighbors': 19, 'algorithm': 'auto', 'p': 1}. Best is trial 0 with value: 0.8638369653564386.\n",
      "[I 2025-03-26 17:14:01,192] Trial 32 finished with value: 0.8638369653564386 and parameters: {'n_neighbors': 19, 'algorithm': 'auto', 'p': 1}. Best is trial 0 with value: 0.8638369653564386.\n",
      "[I 2025-03-26 17:14:02,437] Trial 33 finished with value: 0.8638369653564386 and parameters: {'n_neighbors': 19, 'algorithm': 'auto', 'p': 1}. Best is trial 0 with value: 0.8638369653564386.\n",
      "[I 2025-03-26 17:14:03,681] Trial 34 finished with value: 0.860920320723681 and parameters: {'n_neighbors': 17, 'algorithm': 'kd_tree', 'p': 1}. Best is trial 0 with value: 0.8638369653564386.\n",
      "[I 2025-03-26 17:14:04,922] Trial 35 finished with value: 0.860920320723681 and parameters: {'n_neighbors': 15, 'algorithm': 'auto', 'p': 1}. Best is trial 0 with value: 0.8638369653564386.\n",
      "[I 2025-03-26 17:14:06,173] Trial 36 finished with value: 0.8638369653564386 and parameters: {'n_neighbors': 19, 'algorithm': 'ball_tree', 'p': 1}. Best is trial 0 with value: 0.8638369653564386.\n",
      "[I 2025-03-26 17:14:07,425] Trial 37 finished with value: 0.860920320723681 and parameters: {'n_neighbors': 17, 'algorithm': 'kd_tree', 'p': 1}. Best is trial 0 with value: 0.8638369653564386.\n",
      "[I 2025-03-26 17:14:08,675] Trial 38 finished with value: 0.8638369653564386 and parameters: {'n_neighbors': 20, 'algorithm': 'auto', 'p': 2}. Best is trial 0 with value: 0.8638369653564386.\n",
      "[I 2025-03-26 17:14:09,917] Trial 39 finished with value: 0.8474079288002702 and parameters: {'n_neighbors': 1, 'algorithm': 'kd_tree', 'p': 1}. Best is trial 0 with value: 0.8638369653564386.\n"
     ]
    },
    {
     "name": "stdout",
     "output_type": "stream",
     "text": [
      "Best params: {'n_neighbors': 19, 'algorithm': 'kd_tree', 'p': 1}\n",
      "Best ROC AUC score: 0.8638369653564386\n",
      "Best accuracy score: 86.55\n",
      "CPU times: user 52.7 s, sys: 0 ns, total: 52.7 s\n",
      "Wall time: 52.1 s\n"
     ]
    }
   ],
   "source": [
    "%%time \n",
    "\n",
    "def train_and_eval(n_neighbors=7, algorithm='auto', p=1):\n",
    "    knn = KNeighborsClassifier(n_neighbors = n_neighbors, algorithm = algorithm, p = p)\n",
    "    knn.fit(meta_train, y_train_df)\n",
    "    y_proba = knn.predict_proba(meta_valid)[:, 1]\n",
    "    meta_score = roc_auc_score(cp.asnumpy(y_valid_df), cp.asnumpy(y_proba))  # .get() to bring data back to CPU\n",
    "    return meta_score\n",
    "\n",
    "def objective(trial):\n",
    "    n_neighbors = trial.suggest_int(\"n_neighbors\", 1, 20)\n",
    "    algorithm = trial.suggest_categorical(\"algorithm\", [\"auto\", \"ball_tree\", \"kd_tree\", \"brute\"])\n",
    "    p = trial.suggest_int(\"p\", 1, 2)\n",
    "    return train_and_eval(n_neighbors, algorithm, p)\n",
    "\n",
    "study = optuna.create_study(\n",
    "    direction=\"maximize\",\n",
    "    study_name=\"optuna_knn_roc_auc_score\",\n",
    "    sampler=optuna.samplers.TPESampler(seed=142),\n",
    ")\n",
    "\n",
    "study.optimize(objective, n_trials=40)\n",
    "\n",
    "\n",
    "print(f\"Best params: {study.best_params}\")\n",
    "print(f\"Best ROC AUC score: {study.best_value}\")\n",
    "\n",
    "knn = KNeighborsClassifier(**study.best_params)\n",
    "knn.fit(meta_train, y_train_df)\n",
    "y_proba = knn.predict_proba(meta_valid)[:, 1]\n",
    "acc_score = cp.round(knn.score(cp.asnumpy(meta_valid), cp.asnumpy(y_valid_df)) * 100, 2)  # .get() to bring data back to CPU\n",
    "\n",
    "print(f\"Best accuracy score: {acc_score}\")"
   ]
  },
  {
   "cell_type": "code",
   "execution_count": 56,
   "metadata": {
    "scrolled": true
   },
   "outputs": [
    {
     "name": "stderr",
     "output_type": "stream",
     "text": [
      "[I 2025-03-27 08:50:15,336] A new study created in memory with name: optuna_xgboost_acc_score\n",
      "[I 2025-03-27 08:50:15,554] Trial 0 finished with value: 86.67 and parameters: {'n_estimators': 186, 'max_depth': 7, 'learning_rate': 0.2874177812298999}. Best is trial 0 with value: 86.67.\n",
      "[I 2025-03-27 08:50:15,780] Trial 1 finished with value: 86.67 and parameters: {'n_estimators': 175, 'max_depth': 4, 'learning_rate': 0.12272891899186604}. Best is trial 0 with value: 86.67.\n",
      "[I 2025-03-27 08:50:17,358] Trial 2 finished with value: 86.67 and parameters: {'n_estimators': 166, 'max_depth': 6, 'learning_rate': 0.18590913175015547}. Best is trial 0 with value: 86.67.\n",
      "[I 2025-03-27 08:50:17,577] Trial 3 finished with value: 86.67 and parameters: {'n_estimators': 168, 'max_depth': 9, 'learning_rate': 0.12995659747814597}. Best is trial 0 with value: 86.67.\n",
      "[I 2025-03-27 08:50:17,712] Trial 4 finished with value: 86.67 and parameters: {'n_estimators': 67, 'max_depth': 5, 'learning_rate': 0.26331875715566505}. Best is trial 0 with value: 86.67.\n",
      "[I 2025-03-27 08:50:35,166] Trial 5 finished with value: 86.67 and parameters: {'n_estimators': 182, 'max_depth': 7, 'learning_rate': 0.19786364599366196}. Best is trial 0 with value: 86.67.\n",
      "[I 2025-03-27 08:50:35,378] Trial 6 finished with value: 86.67 and parameters: {'n_estimators': 194, 'max_depth': 9, 'learning_rate': 0.3476196569473479}. Best is trial 0 with value: 86.67.\n",
      "[I 2025-03-27 08:50:35,658] Trial 7 finished with value: 86.67 and parameters: {'n_estimators': 182, 'max_depth': 3, 'learning_rate': 0.1052781364136121}. Best is trial 0 with value: 86.67.\n",
      "[I 2025-03-27 08:50:35,818] Trial 8 finished with value: 86.67 and parameters: {'n_estimators': 156, 'max_depth': 7, 'learning_rate': 0.3961013484688526}. Best is trial 0 with value: 86.67.\n",
      "[I 2025-03-27 08:50:43,126] Trial 9 finished with value: 86.67 and parameters: {'n_estimators': 194, 'max_depth': 6, 'learning_rate': 0.24163095569580995}. Best is trial 0 with value: 86.67.\n",
      "[I 2025-03-27 08:50:43,269] Trial 10 finished with value: 86.67 and parameters: {'n_estimators': 113, 'max_depth': 10, 'learning_rate': 0.3126560281056508}. Best is trial 0 with value: 86.67.\n",
      "[I 2025-03-27 08:50:43,449] Trial 11 finished with value: 86.67 and parameters: {'n_estimators': 130, 'max_depth': 3, 'learning_rate': 0.15658837698517455}. Best is trial 0 with value: 86.67.\n",
      "[I 2025-03-27 08:50:43,597] Trial 12 finished with value: 86.67 and parameters: {'n_estimators': 135, 'max_depth': 4, 'learning_rate': 0.4804875400316475}. Best is trial 0 with value: 86.67.\n",
      "[I 2025-03-27 08:50:43,786] Trial 13 finished with value: 86.67 and parameters: {'n_estimators': 103, 'max_depth': 8, 'learning_rate': 0.10309251539114161}. Best is trial 0 with value: 86.67.\n",
      "[I 2025-03-27 08:50:43,990] Trial 14 finished with value: 86.67 and parameters: {'n_estimators': 149, 'max_depth': 5, 'learning_rate': 0.1451983218523299}. Best is trial 0 with value: 86.67.\n",
      "[I 2025-03-27 08:50:44,118] Trial 15 finished with value: 86.67 and parameters: {'n_estimators': 85, 'max_depth': 5, 'learning_rate': 0.2769076908223853}. Best is trial 0 with value: 86.67.\n",
      "[I 2025-03-27 08:50:44,297] Trial 16 finished with value: 86.67 and parameters: {'n_estimators': 146, 'max_depth': 8, 'learning_rate': 0.21044976961088527}. Best is trial 0 with value: 86.67.\n",
      "[I 2025-03-27 08:50:44,491] Trial 17 finished with value: 86.67 and parameters: {'n_estimators': 199, 'max_depth': 4, 'learning_rate': 0.4094701988050019}. Best is trial 0 with value: 86.67.\n",
      "[I 2025-03-27 08:50:44,697] Trial 18 finished with value: 86.67 and parameters: {'n_estimators': 174, 'max_depth': 4, 'learning_rate': 0.17224627626812433}. Best is trial 0 with value: 86.67.\n",
      "[I 2025-03-27 08:50:44,880] Trial 19 finished with value: 86.67 and parameters: {'n_estimators': 112, 'max_depth': 6, 'learning_rate': 0.12703854045261437}. Best is trial 0 with value: 86.67.\n",
      "[I 2025-03-27 08:50:45,065] Trial 20 finished with value: 86.67 and parameters: {'n_estimators': 159, 'max_depth': 8, 'learning_rate': 0.23216419511822575}. Best is trial 0 with value: 86.67.\n",
      "[I 2025-03-27 08:50:45,281] Trial 21 finished with value: 86.67 and parameters: {'n_estimators': 167, 'max_depth': 6, 'learning_rate': 0.18491794287162386}. Best is trial 0 with value: 86.67.\n",
      "[I 2025-03-27 08:50:45,560] Trial 22 finished with value: 86.67 and parameters: {'n_estimators': 185, 'max_depth': 7, 'learning_rate': 0.12769782189978335}. Best is trial 0 with value: 86.67.\n",
      "[I 2025-03-27 08:50:45,731] Trial 23 finished with value: 86.67 and parameters: {'n_estimators': 141, 'max_depth': 5, 'learning_rate': 0.3041834816655033}. Best is trial 0 with value: 86.67.\n",
      "[I 2025-03-27 08:50:45,959] Trial 24 finished with value: 86.67 and parameters: {'n_estimators': 174, 'max_depth': 6, 'learning_rate': 0.16756237259536474}. Best is trial 0 with value: 86.67.\n",
      "[I 2025-03-27 08:50:46,192] Trial 25 finished with value: 86.67 and parameters: {'n_estimators': 162, 'max_depth': 7, 'learning_rate': 0.11388754138491164}. Best is trial 0 with value: 86.67.\n",
      "[I 2025-03-27 08:50:46,397] Trial 26 finished with value: 86.67 and parameters: {'n_estimators': 183, 'max_depth': 4, 'learning_rate': 0.20742315500973776}. Best is trial 0 with value: 86.67.\n",
      "[I 2025-03-27 08:51:03,598] Trial 27 finished with value: 86.67 and parameters: {'n_estimators': 155, 'max_depth': 3, 'learning_rate': 0.14987752552470318}. Best is trial 0 with value: 86.67.\n",
      "[I 2025-03-27 08:51:03,800] Trial 28 finished with value: 86.67 and parameters: {'n_estimators': 191, 'max_depth': 9, 'learning_rate': 0.25851321774886793}. Best is trial 0 with value: 86.67.\n",
      "[I 2025-03-27 08:51:04,019] Trial 29 finished with value: 86.67 and parameters: {'n_estimators': 171, 'max_depth': 8, 'learning_rate': 0.13814650217292876}. Best is trial 0 with value: 86.67.\n",
      "[I 2025-03-27 08:51:04,250] Trial 30 finished with value: 86.67 and parameters: {'n_estimators': 170, 'max_depth': 5, 'learning_rate': 0.11472031084350381}. Best is trial 0 with value: 86.67.\n",
      "[I 2025-03-27 08:51:04,401] Trial 31 finished with value: 86.67 and parameters: {'n_estimators': 74, 'max_depth': 10, 'learning_rate': 0.13217940836120032}. Best is trial 0 with value: 86.67.\n",
      "[I 2025-03-27 08:51:04,627] Trial 32 finished with value: 86.67 and parameters: {'n_estimators': 200, 'max_depth': 9, 'learning_rate': 0.18232382156204352}. Best is trial 0 with value: 86.67.\n",
      "[I 2025-03-27 08:51:04,861] Trial 33 finished with value: 86.67 and parameters: {'n_estimators': 177, 'max_depth': 9, 'learning_rate': 0.11832100925625914}. Best is trial 0 with value: 86.67.\n",
      "[I 2025-03-27 08:51:05,081] Trial 34 finished with value: 86.67 and parameters: {'n_estimators': 187, 'max_depth': 10, 'learning_rate': 0.15959510725217982}. Best is trial 0 with value: 86.67.\n",
      "[I 2025-03-27 08:51:05,323] Trial 35 finished with value: 86.67 and parameters: {'n_estimators': 162, 'max_depth': 7, 'learning_rate': 0.1003726462707598}. Best is trial 0 with value: 86.67.\n",
      "[I 2025-03-27 08:51:05,500] Trial 36 finished with value: 86.67 and parameters: {'n_estimators': 152, 'max_depth': 9, 'learning_rate': 0.28678278645278493}. Best is trial 0 with value: 86.67.\n",
      "[I 2025-03-27 08:51:05,620] Trial 37 finished with value: 86.67 and parameters: {'n_estimators': 53, 'max_depth': 7, 'learning_rate': 0.22247688465161178}. Best is trial 0 with value: 86.67.\n",
      "[I 2025-03-27 08:51:05,780] Trial 38 finished with value: 86.67 and parameters: {'n_estimators': 141, 'max_depth': 8, 'learning_rate': 0.3239381906610022}. Best is trial 0 with value: 86.67.\n",
      "[I 2025-03-27 08:51:05,979] Trial 39 finished with value: 86.67 and parameters: {'n_estimators': 120, 'max_depth': 6, 'learning_rate': 0.3376771456348955}. Best is trial 0 with value: 86.67.\n"
     ]
    },
    {
     "name": "stdout",
     "output_type": "stream",
     "text": [
      "Best params: {'n_estimators': 186, 'max_depth': 7, 'learning_rate': 0.2874177812298999}\n",
      "Best accuracy score: 86.67\n",
      "CPU times: user 23min 36s, sys: 268 ms, total: 23min 36s\n",
      "Wall time: 50.6 s\n"
     ]
    }
   ],
   "source": [
    "# %%time \n",
    "\n",
    "# def train_and_eval(n_estimators=100, max_depth=6, learning_rate=0.3):\n",
    "#     xgboost = XGBClassifier(n_estimators = n_estimators, max_depth = max_depth, learning_rate = learning_rate)\n",
    "#     xgboost.fit(meta_train, y_train_df)\n",
    "#     y_pred = xgboost.predict(meta_valid)\n",
    "#     score = cp.round(xgboost.score(cp.asnumpy(meta_valid), cp.asnumpy(y_valid_df)) * 100, 2)  # .get() to bring data back to CPU\n",
    "#     return score\n",
    "\n",
    "# def objective(trial):\n",
    "#     n_estimators = trial.suggest_int(\"n_estimators\", 50, 200)\n",
    "#     max_depth = trial.suggest_int(\"max_depth\", 3, 10)\n",
    "#     learning_rate = trial.suggest_float(\"learning_rate\", 0.1, 0.5, log = True)\n",
    "#     return train_and_eval(n_estimators, max_depth, learning_rate)\n",
    "\n",
    "# xgb_study = optuna.create_study(\n",
    "#     direction=\"maximize\",\n",
    "#     study_name=\"optuna_xgboost_acc_score\",\n",
    "#     sampler=optuna.samplers.TPESampler(seed=142),\n",
    "# )\n",
    "\n",
    "# xgb_study.optimize(objective, n_trials=40)\n",
    "\n",
    "# print(f\"Best params: {xgb_study.best_params}\")\n",
    "# print(f\"Best accuracy score: {xgb_study.best_value}\")"
   ]
  },
  {
   "cell_type": "code",
   "execution_count": null,
   "metadata": {},
   "outputs": [],
   "source": []
  }
 ],
 "metadata": {
  "_change_revision": 0,
  "_is_fork": false,
  "colab": {
   "provenance": []
  },
  "kernelspec": {
   "display_name": "Python 3 (ipykernel)",
   "language": "python",
   "name": "python3"
  },
  "language_info": {
   "codemirror_mode": {
    "name": "ipython",
    "version": 3
   },
   "file_extension": ".py",
   "mimetype": "text/x-python",
   "name": "python",
   "nbconvert_exporter": "python",
   "pygments_lexer": "ipython3",
   "version": "3.12.3"
  }
 },
 "nbformat": 4,
 "nbformat_minor": 4
}
